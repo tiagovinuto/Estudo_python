{
 "cells": [
  {
   "cell_type": "code",
   "execution_count": 1,
   "metadata": {},
   "outputs": [],
   "source": [
    "\"\"\"Classe Bola: Crie uma classe que modele uma bola:\n",
    "\n",
    "a - Atributos: Cor, circunferência, material\n",
    "b - Métodos: trocaCor e mostraCor \"\"\"\n",
    "\n",
    "class Bola():\n",
    "    def __init__(self, cor = 'Azul', circunferencia = None, material = None):\n",
    "        self.cor = cor\n",
    "        self.circunferencia = circunferencia\n",
    "        self.material = material\n",
    "   \n",
    "    def trocaCor(self, novaCor):\n",
    "        novaCorr = self.cor = novaCor\n",
    "        return novaCorr\n",
    "    \n",
    "    def mostraCor(self):\n",
    "        return self.cor "
   ]
  },
  {
   "cell_type": "code",
   "execution_count": 2,
   "metadata": {},
   "outputs": [],
   "source": [
    "y = Bola()"
   ]
  },
  {
   "cell_type": "code",
   "execution_count": 3,
   "metadata": {},
   "outputs": [
    {
     "data": {
      "text/plain": [
       "'Azul'"
      ]
     },
     "execution_count": 3,
     "metadata": {},
     "output_type": "execute_result"
    }
   ],
   "source": [
    "y.cor"
   ]
  },
  {
   "cell_type": "code",
   "execution_count": 4,
   "metadata": {},
   "outputs": [
    {
     "data": {
      "text/plain": [
       "'Verde'"
      ]
     },
     "execution_count": 4,
     "metadata": {},
     "output_type": "execute_result"
    }
   ],
   "source": [
    "y.trocaCor('Verde')"
   ]
  },
  {
   "cell_type": "code",
   "execution_count": 5,
   "metadata": {},
   "outputs": [
    {
     "data": {
      "text/plain": [
       "'Verde'"
      ]
     },
     "execution_count": 5,
     "metadata": {},
     "output_type": "execute_result"
    }
   ],
   "source": [
    "y.cor"
   ]
  },
  {
   "cell_type": "code",
   "execution_count": 7,
   "metadata": {},
   "outputs": [
    {
     "data": {
      "text/plain": [
       "'Verde'"
      ]
     },
     "execution_count": 7,
     "metadata": {},
     "output_type": "execute_result"
    }
   ],
   "source": [
    "y.mostraCor()"
   ]
  },
  {
   "cell_type": "code",
   "execution_count": 8,
   "metadata": {},
   "outputs": [],
   "source": [
    "\"\"\"Classe Quadrado: Crie uma classe que modele um quadrado:\n",
    "\n",
    "Atributos: Tamanho do lado\n",
    "Métodos: Mudar valor do Lado, Retornar valor do Lado e calcular Área; \"\"\"\n",
    "\n",
    "class Quadrado():\n",
    "    def __init__(self, tamLado: int):\n",
    "        self.tamanhoLado = tamLado\n",
    "    \n",
    "    def mudaLado(self, novoLado):\n",
    "        self.tamanhoLado = novoLado\n",
    "        \n",
    "    def retornalado(self):\n",
    "        return self.tamanhoLado\n",
    "    \n",
    "    def calcArea(self):\n",
    "        return self.tamanhoLado * self.tamanhoLado"
   ]
  },
  {
   "cell_type": "code",
   "execution_count": 10,
   "metadata": {},
   "outputs": [],
   "source": [
    "q = Quadrado(5)"
   ]
  },
  {
   "cell_type": "code",
   "execution_count": 11,
   "metadata": {},
   "outputs": [],
   "source": [
    "q.mudaLado(8)"
   ]
  },
  {
   "cell_type": "code",
   "execution_count": 12,
   "metadata": {},
   "outputs": [
    {
     "data": {
      "text/plain": [
       "8"
      ]
     },
     "execution_count": 12,
     "metadata": {},
     "output_type": "execute_result"
    }
   ],
   "source": [
    "q.tamanhoLado"
   ]
  },
  {
   "cell_type": "code",
   "execution_count": 13,
   "metadata": {},
   "outputs": [
    {
     "data": {
      "text/plain": [
       "8"
      ]
     },
     "execution_count": 13,
     "metadata": {},
     "output_type": "execute_result"
    }
   ],
   "source": [
    "q.retornalado()"
   ]
  },
  {
   "cell_type": "code",
   "execution_count": 14,
   "metadata": {},
   "outputs": [
    {
     "data": {
      "text/plain": [
       "64"
      ]
     },
     "execution_count": 14,
     "metadata": {},
     "output_type": "execute_result"
    }
   ],
   "source": [
    "q.calcArea()"
   ]
  },
  {
   "cell_type": "code",
   "execution_count": 15,
   "metadata": {},
   "outputs": [],
   "source": [
    "\"\"\" Classe Retangulo: Crie uma classe que modele um retangulo:\n",
    "\n",
    "Atributos: LadoA, LadoB (ou Comprimento e Largura, ou Base e Altura, a escolher)\n",
    "Métodos: Mudar valor dos lados, Retornar valor dos lados, calcular Área e calcular Perímetro;\n",
    "\n",
    "Crie um programa que utilize esta classe. Ele deve pedir ao usuário que informe as medidades de \n",
    "um local. Depois, deve criar um objeto com as medidas e calcular a quantidade de pisos e de rodapés\n",
    "necessárias para o local. \"\"\"\n",
    "\n",
    "class Retangulo():\n",
    "    def __init__(self, LadoA: int, LadoB: int):\n",
    "        self.base = LadoA\n",
    "        self.altura = LadoB\n",
    "        \n",
    "    def mudalados(self, nLadoA, nLadoB):\n",
    "        self.base = nLadoA\n",
    "        self.altura = nLadoB\n",
    "    \n",
    "    def retornaLado(self):\n",
    "        valorLado = self.base + self.altura\n",
    "        return valorLado\n",
    "    \n",
    "    def areaRetangulo(self):\n",
    "        area = self.base * self.altura\n",
    "        return area\n",
    "    \n",
    "    def perimetroRetangulo(self):\n",
    "        perimetro = 2 * (self.base + self.altura)\n",
    "        return perimetro   "
   ]
  },
  {
   "cell_type": "code",
   "execution_count": 17,
   "metadata": {},
   "outputs": [],
   "source": [
    "ret = Retangulo(2, 7)"
   ]
  },
  {
   "cell_type": "code",
   "execution_count": 18,
   "metadata": {},
   "outputs": [],
   "source": [
    "ret.mudalados(5, 9)"
   ]
  },
  {
   "cell_type": "code",
   "execution_count": null,
   "metadata": {},
   "outputs": [],
   "source": [
    "ret.retornaLado"
   ]
  }
 ],
 "metadata": {
  "kernelspec": {
   "display_name": "Python 3",
   "language": "python",
   "name": "python3"
  },
  "language_info": {
   "codemirror_mode": {
    "name": "ipython",
    "version": 3
   },
   "file_extension": ".py",
   "mimetype": "text/x-python",
   "name": "python",
   "nbconvert_exporter": "python",
   "pygments_lexer": "ipython3",
   "version": "3.7.7"
  }
 },
 "nbformat": 4,
 "nbformat_minor": 4
}
