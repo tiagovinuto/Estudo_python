{
 "cells": [
  {
   "cell_type": "code",
   "execution_count": 2,
   "metadata": {},
   "outputs": [
    {
     "name": "stdout",
     "output_type": "stream",
     "text": [
      "2 3 4 7 8 "
     ]
    }
   ],
   "source": [
    "\"\"\"Faça um Programa que leia um vetor de 5 números inteiros e mostre-os.\"\"\"\n",
    "\n",
    "cincoNumeros = [2, 3, 4, 7, 8]\n",
    "\n",
    "for i in cincoNumeros:\n",
    "    print(i, end = ' ')"
   ]
  },
  {
   "cell_type": "code",
   "execution_count": 5,
   "metadata": {},
   "outputs": [
    {
     "name": "stdout",
     "output_type": "stream",
     "text": [
      "10\n",
      "9\n",
      "8\n",
      "7\n",
      "6\n",
      "5\n",
      "4\n",
      "3\n",
      "2\n",
      "1\n"
     ]
    }
   ],
   "source": [
    "\"\"\"Faça um Programa que leia um vetor de 10 números reais e mostre-os na ordem inversa.\"\"\"\n",
    "\n",
    "dezNumeros = [1, 2, 3, 4, 5, 6, 7, 8, 9, 10]\n",
    "\n",
    "for i in dezNumeros:\n",
    "    print(dezNumeros[-i])"
   ]
  },
  {
   "cell_type": "code",
   "execution_count": 21,
   "metadata": {},
   "outputs": [
    {
     "name": "stdin",
     "output_type": "stream",
     "text": [
      "Nota 1 6\n",
      "Nota 2 6\n",
      "Nota 3 6\n",
      "Nota 4 6\n"
     ]
    },
    {
     "name": "stdout",
     "output_type": "stream",
     "text": [
      "Nota 1: 6.0\n",
      "Nota 2: 6.0\n",
      "Nota 3: 6.0\n",
      "Nota 4: 6.0\n",
      "Media: 6.0\n"
     ]
    }
   ],
   "source": [
    "\"\"\"Faça um Programa que leia 4 notas, mostre as notas e a média na tela.\"\"\"\n",
    "\n",
    "cont = 1\n",
    "notas = []\n",
    "\n",
    "while cont <= 4:\n",
    "    nota1 = float(input('Nota {}'.format(cont)))\n",
    "    notas.append(nota1)\n",
    "    soma = 0\n",
    "    for i in notas:\n",
    "        soma = soma + i\n",
    "    media = float(soma / cont)\n",
    "    cont += 1\n",
    "\n",
    "print('Nota 1: {}'.format(notas[0]))\n",
    "print('Nota 2: {}'.format(notas[1]))\n",
    "print('Nota 3: {}'.format(notas[2]))\n",
    "print('Nota 4: {}'.format(notas[3]))\n",
    "print('Media: {}'.format(media))"
   ]
  },
  {
   "cell_type": "code",
   "execution_count": 31,
   "metadata": {},
   "outputs": [
    {
     "name": "stdin",
     "output_type": "stream",
     "text": [
      "Digite uma frase:  Eu sou muito inteligente\n"
     ]
    },
    {
     "name": "stdout",
     "output_type": "stream",
     "text": [
      "9\n"
     ]
    }
   ],
   "source": [
    "\"\"\"Faça um Programa que leia um vetor de 10 caracteres, e diga quantas consoantes foram lidas.\n",
    "Imprima as consoantes.\"\"\"\n",
    "\n",
    "consoantes = ['b', 'c', 'd', 'f', 'g', 'h', 'j', 'k', 'l', 'm', 'n', \n",
    "              'p', 'q', 'r', 's', 't', 'v', 'w', 'x', 'z']\n",
    "\n",
    "somaConsoante = 0\n",
    "\n",
    "fraseConsoantes = input('Digite uma frase: ')\n",
    "\n",
    "for i in fraseConsoantes:\n",
    "    if i in consoantes:\n",
    "        somaConsoante +=1\n",
    "print(somaConsoante)"
   ]
  },
  {
   "cell_type": "code",
   "execution_count": 65,
   "metadata": {},
   "outputs": [
    {
     "name": "stdout",
     "output_type": "stream",
     "text": [
      "\n",
      " [3, 5, 7, 9, 6, 8, 5, 4, 11, 11, 14, 8, 15, 14, 13, 16, 12, 19, 10, 9]\n",
      "Vet par[3, 5, 7, 9, 5, 11, 11, 15, 13, 19, 9]\n",
      "Vet Impar\n"
     ]
    }
   ],
   "source": [
    "\"\"\"Faça um Programa que leia 20 números inteiros e armazene-os num vetor. Armazene os números pares no\n",
    "vetor PAR e os números IMPARES no vetor impar. Imprima os três vetores.\"\"\"\n",
    "import random\n",
    "\n",
    "listRandom = []\n",
    "vetPar = []\n",
    "vetImapr = []\n",
    "cont = 0\n",
    "\n",
    "while cont < 20:\n",
    "    parImpar = random.randint(1, 20)\n",
    "    if parImpar % 2 == 0:\n",
    "        vetPar.append(parImpar)\n",
    "    else:\n",
    "        vetImapr.append(parImpar)\n",
    "    listRandom.append(parImpar)\n",
    "    cont +=1\n",
    "\n",
    "print('\\n',listRandom)\n",
    "print('Vet par{}'.format(vetPar))\n",
    "print('Vet Impar'.format(vetImapr))"
   ]
  },
  {
   "cell_type": "code",
   "execution_count": 88,
   "metadata": {},
   "outputs": [
    {
     "name": "stdout",
     "output_type": "stream",
     "text": [
      "Lista de numeros [2, 2, 3, 3, 5, 5, 9, 9, 10, 11, 13, 13, 14, 16, 16, 17, 17, 18, 19, 20]\n",
      "\n",
      "Vet par [14, 2, 16, 20, 16, 2, 10, 18]\n",
      "Vet Impar [9, 11, 3, 5, 9, 17, 3, 13, 13, 17, 5, 19]\n"
     ]
    }
   ],
   "source": [
    "\"\"\"Faça um Programa que leia 20 números inteiros e armazene-os num vetor. Armazene os números pares no\n",
    "vetor PAR e os números IMPARES no vetor impar. Imprima os três vetores.\"\"\"\n",
    "import random\n",
    "\n",
    "vetPar = []\n",
    "vetImapr = []\n",
    "vetInteiros = []\n",
    "cont = 0\n",
    "\n",
    "while cont < 20:\n",
    "    c = random.randint(1, 20)\n",
    "    vetInteiros.append(c)\n",
    "    if c % 2 == 0:\n",
    "        vetPar.append(c)\n",
    "    else:\n",
    "        vetImapr.append(c)\n",
    "    cont +=1\n",
    "\n",
    "print('Lista de numeros {}\\n'.format(sorted(vetInteiros)))\n",
    "print('Vet par {}'.format(vetPar))\n",
    "print('Vet Impar {}'.format(vetImapr))"
   ]
  },
  {
   "cell_type": "code",
   "execution_count": 14,
   "metadata": {},
   "outputs": [
    {
     "name": "stdout",
     "output_type": "stream",
     "text": [
      "Nota do aluno 1\n"
     ]
    },
    {
     "name": "stdin",
     "output_type": "stream",
     "text": [
      "Nota 1:  6\n",
      "Nota 2:  6\n",
      "Nota 3:  6\n",
      "Nota 4:  5\n"
     ]
    },
    {
     "name": "stdout",
     "output_type": "stream",
     "text": [
      "Nota do aluno 2\n"
     ]
    },
    {
     "name": "stdin",
     "output_type": "stream",
     "text": [
      "Nota 1:  7\n",
      "Nota 2:  8\n",
      "Nota 3:  7\n",
      "Nota 4:  8\n"
     ]
    },
    {
     "name": "stdout",
     "output_type": "stream",
     "text": [
      "1\n",
      "Nota do aluno 3\n"
     ]
    },
    {
     "name": "stdin",
     "output_type": "stream",
     "text": [
      "Nota 1:  9\n",
      "Nota 2:  9\n",
      "Nota 3:  9\n",
      "Nota 4:  8\n"
     ]
    },
    {
     "name": "stdout",
     "output_type": "stream",
     "text": [
      "2\n",
      "Vetor de medias [5.75, 7.5, 8.75]\n",
      "A quantidade de alunos com media maior que 7 é 2\n"
     ]
    }
   ],
   "source": [
    "\"\"\"Faça um Programa que peça as quatro notas de 10 alunos, calcule e armazene num vetor a média de\n",
    "cada aluno, imprima o número de alunos com média maior ou igual a 7.0.\"\"\"\n",
    "\n",
    "alunosMedias = 0\n",
    "cont = 1\n",
    "vetMedia = []\n",
    "\n",
    "while cont <= 3:\n",
    "    print('Nota do aluno {}'.format(cont))\n",
    "    n1 = float(input ('Nota 1: '))\n",
    "    n2 = float(input ('Nota 2: '))\n",
    "    n3 = float(input ('Nota 3: '))\n",
    "    n4 = float(input ('Nota 4: '))\n",
    "    \n",
    "    media = (n1 + n2 + n3 + n4) / 4\n",
    "    vetMedia.append(media)\n",
    "    \n",
    "    if vetMedia[cont-1] >= 7.0:\n",
    "        alunosMedias += 1\n",
    "        #print(alunosMedias)\n",
    "    cont += 1\n",
    "\n",
    "print('Vetor de medias {}'.format(vetMedia))\n",
    "print('A quantidade de alunos com media maior que 7 é {}'.format(alunosMedias))"
   ]
  },
  {
   "cell_type": "code",
   "execution_count": 19,
   "metadata": {},
   "outputs": [
    {
     "name": "stdin",
     "output_type": "stream",
     "text": [
      "Digite um numero:  4\n"
     ]
    },
    {
     "name": "stdout",
     "output_type": "stream",
     "text": [
      "[32, 40, 4, 32]\n",
      "Soma 108\n",
      "Multiplicação 163840\n"
     ]
    }
   ],
   "source": [
    "\"\"\"Faça um Programa que leia um vetor de 5 números inteiros, mostre a soma, a multiplicação\n",
    "e os números.\"\"\"\n",
    "import random as r\n",
    "\n",
    "nuns1 = int(input('Digite um numero: '))\n",
    "\n",
    "vetInt = []\n",
    "soma = 0\n",
    "multi = 1\n",
    "\n",
    "for i in range(nuns1):\n",
    "    nRandom = r.randint(1, 50)\n",
    "    vetInt.append(nRandom)\n",
    "    soma += vetInt[i]\n",
    "    multi *= vetInt[i]\n",
    "print(vetInt)\n",
    "print('Soma {}'.format(soma))\n",
    "print('Multiplicação {}'.format(multi))"
   ]
  },
  {
   "cell_type": "code",
   "execution_count": 43,
   "metadata": {},
   "outputs": [
    {
     "name": "stdin",
     "output_type": "stream",
     "text": [
      "Idade:  23\n",
      "Altura:  1.78\n",
      "Idade:  34\n",
      "Altura:  1.65\n"
     ]
    },
    {
     "name": "stdout",
     "output_type": "stream",
     "text": [
      "None\n",
      "None\n"
     ]
    }
   ],
   "source": [
    "\"\"\"Faça um Programa que peça a idade e a altura de 5 pessoas, armazene cada informação no seu respectivo\n",
    "vetor. Imprima a idade e a altura na ordem inversa a ordem lida\"\"\"\n",
    "\n",
    "vetIdade = []\n",
    "vetAlt = []\n",
    "\n",
    "for i in range(2):\n",
    "    idade = int(input('Idade: '))\n",
    "    altura = float(input('Altura: '))\n",
    "    \n",
    "    vetIdade.append(idade)\n",
    "    vetAlt.append(altura)\n",
    "\n",
    "print(vetIdade[::-1])\n",
    "print(vetAlt[::-1])"
   ]
  },
  {
   "cell_type": "code",
   "execution_count": 48,
   "metadata": {},
   "outputs": [
    {
     "name": "stdout",
     "output_type": "stream",
     "text": [
      "[2, 2, 4, 4, 1, 1, 1, 6, 3, 6]\n",
      "Soma dos quadrados: 232\n"
     ]
    }
   ],
   "source": [
    "\"\"\"Faça um Programa que leia um vetor A com 10 números inteiros, calcule e mostre a soma dos\n",
    "quadrados dos elementos do vetor.\"\"\"\n",
    "\n",
    "import random as r\n",
    "\n",
    "vetQuad = []\n",
    "quadradoElemento = 0\n",
    "somaQuad = 0\n",
    "for i in range(10):\n",
    "    nRandom = r.randint(1, 10)\n",
    "    vetQuad.append(nRandom)\n",
    "    quadradoElemento = vetQuad[i]**2\n",
    "    soma += quadradoElemento\n",
    "print(vetQuad)\n",
    "print('Soma dos quadrados: {}'.format(soma))"
   ]
  },
  {
   "cell_type": "code",
   "execution_count": 97,
   "metadata": {},
   "outputs": [
    {
     "name": "stdout",
     "output_type": "stream",
     "text": [
      "[5, 2, 5, 8, 10, 3, 4, 5, 7, 8]\n",
      "[16, 20, 20, 19, 14, 20, 11, 16, 15, 12]\n",
      "[5, 16, 2, 20, 5, 20, 8, 19, 10, 14, 3, 20, 4, 11, 5, 16, 7, 15, 8, 12]\n"
     ]
    }
   ],
   "source": [
    "\"\"\"Faça um Programa que leia dois vetores com 10 elementos cada. Gere um terceiro vetor de 20 elementos\n",
    ", cujos valores deverão ser compostos pelos elementos intercalados dos dois outros vetores.\"\"\"\n",
    "\n",
    "import random as r\n",
    "\n",
    "vetA1 = []\n",
    "vetA2 = []\n",
    "vetResult = []\n",
    "\n",
    "for i in range(10):\n",
    "    nRandom1 = r.randint(1, 10)\n",
    "    nRandom2 = r.randint(10, 20)\n",
    "    \n",
    "    vetA1.append(nRandom1)\n",
    "    vetA2.append(nRandom2)\n",
    "print(vetA1)\n",
    "print(vetA2)\n",
    "\n",
    "for a,b in zip(vetA1, vetA2):\n",
    "    vetResult.append(a)\n",
    "    vetResult.append(b)\n",
    "print(vetResult)"
   ]
  },
  {
   "cell_type": "code",
   "execution_count": 98,
   "metadata": {},
   "outputs": [
    {
     "name": "stdout",
     "output_type": "stream",
     "text": [
      "[3, 9, 9, 10, 9, 5, 5, 2, 10, 10]\n",
      "[15, 10, 10, 17, 15, 10, 19, 11, 14, 10]\n",
      "[30, 24, 23, 28, 26, 27, 24, 22, 20, 23]\n",
      "[3, 15, 30, 9, 10, 24, 9, 10, 23, 10, 17, 28, 9, 15, 26, 5, 10, 27, 5, 19, 24, 2, 11, 22, 10, 14, 20, 10, 10, 23]\n"
     ]
    }
   ],
   "source": [
    "\"\"\"Altere o programa anterior, intercalando 3 vetores de 10 elementos cada.\"\"\"\n",
    "\n",
    "import random as r\n",
    "\n",
    "vetA1 = []\n",
    "vetA2 = []\n",
    "vetA3 = []\n",
    "vetResult = []\n",
    "\n",
    "for i in range(10):\n",
    "    nRandom1 = r.randint(1, 10)\n",
    "    nRandom2 = r.randint(10, 20)\n",
    "    nRandom3 = r.randint(20, 30)\n",
    "    \n",
    "    vetA1.append(nRandom1)\n",
    "    vetA2.append(nRandom2)\n",
    "    vetA3.append(nRandom3)\n",
    "\n",
    "print(vetA1)\n",
    "print(vetA2)\n",
    "print(vetA3)\n",
    "\n",
    "for a, b, c in zip(vetA1, vetA2, vetA3):\n",
    "    vetResult.append(a)\n",
    "    vetResult.append(b)\n",
    "    vetResult.append(c)\n",
    "    \n",
    "print(vetResult)"
   ]
  },
  {
   "cell_type": "code",
   "execution_count": 25,
   "metadata": {},
   "outputs": [
    {
     "name": "stdout",
     "output_type": "stream",
     "text": [
      "[4, 7, 5, 8, 3, 5, 4, 10, 4, 9]\n",
      "[17, 12, 14, 12, 18, 20, 10, 11, 15, 13]\n",
      "[30, 22, 21, 20, 30, 21, 24, 27, 30, 23]\n",
      "[4, 17, 30, 7, 12, 22, 5, 14, 21, 8, 12, 20, 3, 18, 30, 5, 20, 21, 4, 10, 24, 10, 11, 27, 4, 15, 30, 9, 13, 23]\n"
     ]
    }
   ],
   "source": [
    "\"\"\"Altere o programa anterior, intercalando 3 vetores de 10 elementos cada.\"\"\"\n",
    "\n",
    "import random as r\n",
    "\n",
    "vetA1 = []\n",
    "vetA2 = []\n",
    "vetA3 = []\n",
    "vetResult = []\n",
    "\n",
    "for i in range(10):\n",
    "    nRandom1 = r.randint(1, 10)\n",
    "    nRandom2 = r.randint(10, 20)\n",
    "    nRandom3 = r.randint(20, 30)\n",
    "    \n",
    "    vetA1.append(nRandom1)\n",
    "    vetA2.append(nRandom2)\n",
    "    vetA3.append(nRandom3)\n",
    "\n",
    "print(vetA1)\n",
    "print(vetA2)\n",
    "print(vetA3)\n",
    "\n",
    "for a in range(10):\n",
    "    vetResult.append(vetA1[a])\n",
    "    vetResult.append(vetA2[a])\n",
    "    vetResult.append(vetA3[a])\n",
    "    \n",
    "print(vetResult)"
   ]
  },
  {
   "cell_type": "code",
   "execution_count": 23,
   "metadata": {},
   "outputs": [
    {
     "name": "stdout",
     "output_type": "stream",
     "text": [
      "\n",
      "\n",
      "Vetor de Idade \n",
      " [12, 6, 15, 13, 13, 9, 8, 16, 19, 10, 13, 9, 9, 18, 17, 7, 10, 18, 11, 12, 16, 6, 6, 8, 5, 5, 14, 13, 16, 12]\n",
      "Vetor de Alturas \n",
      " [1.59, 1.58, 1.49, 1.32, 1.58, 1.54, 1.64, 1.31, 1.38, 1.68, 1.68, 1.27, 1.22, 1.22, 1.12, 1.48, 1.38, 1.46, 1.22, 1.49, 1.65, 1.32, 1.35, 1.71, 1.34, 1.45, 1.48, 1.14, 1.75, 1.62]\n",
      "Media de alturas \n",
      " 1.45\n",
      "Valores que atendem ao solicitado \n",
      "[1.32, 1.31, 1.38, 1.22, 1.12, 1.14]\n"
     ]
    }
   ],
   "source": [
    "\"\"\"Foram anotadas as idades e alturas de 30 alunos. Faça um Programa que determine quantos alunos com\n",
    "mais de 13 anos possuem altura inferior à média de altura desses alunos.\"\"\"\n",
    "\n",
    "import random as r\n",
    "\n",
    "idadeAluno = []\n",
    "altAluno = []\n",
    "resultList = []\n",
    "soma = 0.0\n",
    "\n",
    "for i in range(30):\n",
    "    idades = r.randint(5, 19)\n",
    "    alturas = round(r.uniform(1.10, 1.75), 2)\n",
    "    \n",
    "    idadeAluno.append(idades)\n",
    "    altAluno.append(alturas)\n",
    "    \n",
    "    soma += altAluno[i]\n",
    "    media = round(float(soma / 30), 2)\n",
    "    \n",
    "for x in range(len(idadeAluno)):\n",
    "    if idadeAluno[x] >= 13:\n",
    "        #print('Indice Idade {}'.format(x), end = ' ')\n",
    "        #print('Indice Altura {}'.format(altAluno[x]), end = ' ')\n",
    "        if altAluno[x] < media:\n",
    "            resultList.append(altAluno[x])\n",
    "            #print('Menor que a media{} \\n'.format(altAluno[x]))\n",
    "#print('\\n')\n",
    "print('Vetor de Idade \\n {}'.format(idadeAluno))\n",
    "print('Vetor de Alturas \\n {}'.format(altAluno))\n",
    "print('Media de alturas \\n {}'.format(media))\n",
    "print('Valores que atendem ao solicitado \\n{}'.format(resultList))"
   ]
  },
  {
   "cell_type": "code",
   "execution_count": 41,
   "metadata": {},
   "outputs": [
    {
     "name": "stdout",
     "output_type": "stream",
     "text": [
      "Temperatura: 30.12 Mês: Fevereiro\n",
      "Temperatura: 29.72 Mês: Março\n",
      "Temperatura: 33.06 Mês: Julho\n",
      "Temperatura: 32.35 Mês: Dezembro\n",
      "[31.25, 30.12, 29.72, 27.59, 26.64, 28.27, 33.06, 25.28, 24.06, 24.99, 26.49, 32.35]\n",
      "28.32\n"
     ]
    }
   ],
   "source": [
    "\"\"\"Faça um programa que receba a temperatura média de cada mês do ano e armazene-as em uma lista. \n",
    "Após isto, calcule a média anual das temperaturas e mostre todas as temperaturas acima da média anual,\n",
    "e em que mês elas ocorreram (mostrar o mês por extenso: 1 – Janeiro, 2 – Fevereiro, . . . ).\"\"\"\n",
    "\n",
    "import random as r\n",
    "\n",
    "temperatura = []\n",
    "somaTemp = 0\n",
    "media = 0\n",
    "cont = 0\n",
    "\n",
    "ano = ['Janeiro', 'Fevereiro', 'Março', 'Abril', 'Maio', 'Junho', \n",
    "       'Julho', 'Agosto', 'Setembro', 'Outubro', 'Novembro', 'Dezembro']\n",
    "\n",
    "for i in range(12):\n",
    "    temps = round(r.uniform(22.7, 35.4), 2)\n",
    "    \n",
    "    temperatura.append(temps)\n",
    "    somaTemp += temperatura[i]\n",
    "    cont += 1\n",
    "    media = round(somaTemp / cont, 2)\n",
    "\n",
    "x = 1\n",
    "while x in range(len(temperatura)):  \n",
    "    if temperatura[x] > media:\n",
    "        print('Temperatura: {} Mês: {}'.format(temperatura[x], ano[x]))\n",
    "    x += 1\n",
    "print(temperatura)\n",
    "print(media)"
   ]
  },
  {
   "cell_type": "code",
   "execution_count": 6,
   "metadata": {},
   "outputs": [
    {
     "name": "stdin",
     "output_type": "stream",
     "text": [
      "Telefonou para a vítima?  s\n",
      "Esteve no local do crime?  s\n",
      "Mora perto da vítima?  s\n",
      "Devia para a vítima?  s\n",
      "Já trabalhou com a vítima?  s\n"
     ]
    },
    {
     "name": "stdout",
     "output_type": "stream",
     "text": [
      "Assassino!\n"
     ]
    }
   ],
   "source": [
    "\"\"\"Utilizando listas faça um programa que faça 5 perguntas para uma pessoa sobre um crime. \n",
    "As perguntas são:\n",
    "a - \"Telefonou para a vítima?\"\n",
    "b - \"Esteve no local do crime?\"\n",
    "c - \"Mora perto da vítima?\"\n",
    "d - \"Devia para a vítima?\"\n",
    "e - \"Já trabalhou com a vítima?\" \n",
    "\n",
    "O programa deve no final emitir uma classificação sobre a participação da pessoa no crime. \n",
    "Se a pessoa responder positivamente a 2 questões ela deve ser classificada como \"Suspeita\", \n",
    "entre 3 e 4 como \"Cúmplice\" e 5 como \"Assassino\". Caso contrário, ele será classificado como\n",
    "\"Inocente\".\"\"\"\n",
    "\n",
    "cont = 0\n",
    "\n",
    "resp = []\n",
    "respSim = 0\n",
    "respnao = 0\n",
    "\n",
    "p1 = input( 'Telefonou para a vítima? ')\n",
    "p2 = input( 'Esteve no local do crime? ')\n",
    "p3 = input( 'Mora perto da vítima? ')\n",
    "p4 = input( 'Devia para a vítima? ')\n",
    "p5 = input( 'Já trabalhou com a vítima? ')\n",
    "\n",
    "while cont < 5:\n",
    "    resp.append(p1)\n",
    "    resp.append(p2)\n",
    "    resp.append(p3)\n",
    "    resp.append(p4)\n",
    "    resp.append(p5)\n",
    "    \n",
    "    if resp[cont] == 's':\n",
    "        respSim += 1\n",
    "    cont += 1\n",
    "if respSim == 2:\n",
    "    print('Suspeita!')\n",
    "elif respSim == 3 or resp == 4:\n",
    "    print('Cúmplice!')\n",
    "elif respSim == 5:\n",
    "    print('Assassino!')\n",
    "else:\n",
    "    print('Inocente!')"
   ]
  },
  {
   "cell_type": "code",
   "execution_count": 1,
   "metadata": {},
   "outputs": [
    {
     "name": "stdin",
     "output_type": "stream",
     "text": [
      "Notas:  3\n",
      "Notas:  7\n",
      "Notas:  8\n",
      "Notas:  -1\n"
     ]
    },
    {
     "name": "stdout",
     "output_type": "stream",
     "text": [
      "\n",
      "Qtd valores lidos 3\n",
      "Soma dos valores lidos 18.0\n",
      "Media dos valores lidos 6.0\n",
      "Valores maiores que a media [7.0, 8.0]\n",
      "Valores menores que 7 [3.0]\n",
      "Notas digitadas [3.0, 7.0, 8.0]\n",
      "Notas Reverso [8.0, 7.0, 3.0]\n",
      "TUDO CERTO!\n"
     ]
    }
   ],
   "source": [
    "\"\"\"Faça um programa que leia um número indeterminado de valores, correspondentes a notas, encerrando \n",
    "a entrada de dados quando for informado um valor igual a -1 (que não deve ser armazenado). Após esta \n",
    "entrada de dados, faça:\n",
    "\n",
    "a - Mostre a quantidade de valores que foram lidos;\n",
    "b - Exiba todos os valores na ordem em que foram informados, um ao lado do outro;\n",
    "c - Exiba todos os valores na ordem inversa à que foram informados, um abaixo do outro;\n",
    "d - Calcule e mostre a soma dos valores;\n",
    "e - Calcule e mostre a média dos valores;\n",
    "f - Calcule e mostre a quantidade de valores acima da média calculada;\n",
    "g - Calcule e mostre a quantidade de valores abaixo de sete;\n",
    "h - Encerre o programa com uma mensagem;\"\"\"\n",
    "\n",
    "listaNotas = []\n",
    "maioresMedia = []\n",
    "notasAlunos = 0\n",
    "cont = 0\n",
    "soma = 0\n",
    "media = 0\n",
    "menor7 = []\n",
    "\n",
    "while notasAlunos != -1:\n",
    "    notasAlunos = float(input('Notas: '))\n",
    "    if notasAlunos == -1:\n",
    "        break\n",
    "    listaNotas.append(notasAlunos)\n",
    "    cont += 1\n",
    "    \n",
    "for i in range(len(listaNotas)):\n",
    "    soma += listaNotas[i]\n",
    "media = soma / cont\n",
    "\n",
    "for i in range(len(listaNotas)): \n",
    "    #print('Media {}'.format(media))\n",
    "    if listaNotas[i] > media:\n",
    "        #print(listaNotas[i])\n",
    "        maioresMedia.append(listaNotas[i])\n",
    "    if listaNotas[i] < 7.0:\n",
    "        menor7.append(listaNotas[i])\n",
    "\n",
    "print('\\nQtd valores lidos {}'.format(cont))\n",
    "print('Soma dos valores lidos {}'.format(soma))\n",
    "print('Media dos valores lidos {}'.format(media))\n",
    "print('Valores maiores que a media {}'.format(maioresMedia))\n",
    "print('Valores menores que 7 {}'.format(menor7))\n",
    "print('Notas digitadas {}'.format(listaNotas))\n",
    "print('Notas Reverso {}'.format(listaNotas[::-1]))\n",
    "print('TUDO CERTO!')"
   ]
  },
  {
   "cell_type": "code",
   "execution_count": 3,
   "metadata": {},
   "outputs": [
    {
     "name": "stdin",
     "output_type": "stream",
     "text": [
      "Valor bruto da venda do funcionario:  2000\n",
      "Deseja continuar consultando?  n\n"
     ]
    },
    {
     "name": "stdout",
     "output_type": "stream",
     "text": [
      "[0, 1, 0, 0, 0, 0, 0, 0, 0]\n"
     ]
    }
   ],
   "source": [
    "\"\"\"Utilize uma lista para resolver o problema a seguir. Uma empresa paga seus vendedores com base em \n",
    "comissões. O vendedor recebe $200 por semana mais 9 por cento de suas vendas brutas daquela semana. \n",
    "Por exemplo, um vendedor que teve vendas brutas de $3000 em uma semana recebe $200 mais 9 por cento \n",
    "de $3000, ou seja, um total de $470. Escreva um programa (usando um array de contadores) que determine \n",
    "quantos vendedores receberam salários nos seguintes intervalos de valores:\n",
    "\n",
    "a - $200 - $299\n",
    "b - $300 - $399\n",
    "c - $400 - $499\n",
    "d - $500 - $599\n",
    "e - $600 - $699\n",
    "f - $700 - $799\n",
    "g - $800 - $899\n",
    "h - $900 - $999\n",
    "i - $1000 em diante\n",
    "\n",
    "Desafio: Crie uma fórmula para chegar na posição da lista a partir do salário, sem fazer vários ifs\n",
    "aninhados.\"\"\"\n",
    "\n",
    "contSalario = [0, 0, 0, 0, 0, 0, 0, 0, 0]\n",
    "\n",
    "varBooleana = True\n",
    "\n",
    "while varBooleana:\n",
    "    val_venda_bruta = float( input ('Valor bruto da venda do funcionario: ')) \n",
    "    salario = 200 + (val_venda_bruta * 9 / 100)\n",
    "\n",
    "    if salario in range(200, 299):\n",
    "        contSalario[0] += 1\n",
    "    elif salario in range(300, 399):\n",
    "        contSalario[1] += 1\n",
    "    elif salario in range(400, 499):\n",
    "        contSalario[2] += 1\n",
    "    elif salario in range(500, 599):\n",
    "        contSalario[3] += 1\n",
    "    elif salario in range(600, 699):\n",
    "        contSalario[4] += 1\n",
    "    elif salario in range(700, 799):\n",
    "        contSalario[5] += 1\n",
    "    elif salario in range(800, 899):\n",
    "        contSalario[6] += 1\n",
    "    elif salario in range(900, 999):\n",
    "        contSalario[7] += 1\n",
    "    else:\n",
    "        contSalario[8] += 1\n",
    "    \n",
    "    perg = input('Deseja continuar consultando? ')\n",
    "    \n",
    "    if perg == 's':\n",
    "        continue\n",
    "    else:\n",
    "        varBooleana = False\n",
    "print(contSalario)"
   ]
  },
  {
   "cell_type": "code",
   "execution_count": 20,
   "metadata": {},
   "outputs": [
    {
     "name": "stdin",
     "output_type": "stream",
     "text": [
      "Valor bruto da venda do funcionario:  3000\n",
      "Deseja continuar consultando?  n\n"
     ]
    },
    {
     "name": "stdout",
     "output_type": "stream",
     "text": [
      "[0, 0, 1, 0, 0, 0, 0, 0, 0]\n"
     ]
    }
   ],
   "source": [
    "\"\"\"Desafio: Crie uma fórmula para chegar na posição da lista a partir do salário, sem fazer vários ifs\n",
    "aninhados.\n",
    "\n",
    "a - $200 - $299\n",
    "b - $300 - $399\n",
    "c - $400 - $499\n",
    "d - $500 - $599\n",
    "e - $600 - $699\n",
    "f - $700 - $799\n",
    "g - $800 - $899\n",
    "h - $900 - $999\n",
    "i - $1000 em diante\n",
    "\"\"\"\n",
    "\n",
    "arraySalario = [range(200, 299), range(300, 399),  range(400, 499),  range(500, 599),  \n",
    "               range(600, 699),  range(700, 799),  range(800, 899),  range(900, 999),  \n",
    "               range(1000, 100000)]\n",
    "arrayContador = [0, 0, 0, 0, 0, 0, 0, 0, 0]\n",
    "varBooleana = True\n",
    "\n",
    "while varBooleana:\n",
    "    val_venda_bruta = float( input ('Valor bruto da venda do funcionario: ')) \n",
    "    salario = 200 + (val_venda_bruta * 9 / 100)\n",
    "    \n",
    "    for i in range(len(arraySalario)):\n",
    "        if salario in arraySalario[i]:\n",
    "            arrayContador[i] += 1\n",
    "    \n",
    "    continuar = input('Deseja continuar consultando? ')\n",
    "    \n",
    "    if continuar == 's':\n",
    "        continue\n",
    "    else:\n",
    "        varBooleana = False\n",
    "print(arrayContador)"
   ]
  },
  {
   "cell_type": "code",
   "execution_count": 8,
   "metadata": {},
   "outputs": [
    {
     "name": "stdin",
     "output_type": "stream",
     "text": [
      "Nome do atleta:  t\n",
      "Nota do salto 1 2.3\n",
      "Nota do salto 2 2.3\n",
      "Nota do salto 3 2.3\n",
      "Nota do salto 4 2.3\n",
      "Nota do salto 5 2.3\n"
     ]
    },
    {
     "name": "stdout",
     "output_type": "stream",
     "text": [
      "Resultado final:\n",
      "Atleta: t\n",
      "Saltos: [2.3, 2.3, 2.3, 2.3, 2.3]\n",
      "Média de saltos: 2.3\n"
     ]
    }
   ],
   "source": [
    "\"\"\"Em uma competição de salto em distância cada atleta tem direito a cinco saltos. O resultado do atleta\n",
    "será determinado pela média dos cinco valores restantes. Você deve fazer um programa que receba o nome e\n",
    "as cinco distâncias alcançadas pelo atleta em seus saltos e depois informe o nome, os saltos e a média dos\n",
    "saltos. O programa deve ser encerrado quando não for informado o nome do atleta. A saída do programa deve\n",
    "ser conforme o exemplo abaixo:\n",
    "\n",
    "Atleta: Rodrigo Curvêllo\n",
    " \n",
    "Primeiro Salto: 6.5 m\n",
    "Segundo Salto: 6.1 m\n",
    "Terceiro Salto: 6.2 m\n",
    "Quarto Salto: 5.4 m\n",
    "Quinto Salto: 5.3 m\n",
    "\n",
    "Resultado final:\n",
    "Atleta: Rodrigo Curvêllo\n",
    "Saltos: 6.5 - 6.1 - 6.2 - 5.4 - 5.3\n",
    "Média dos saltos: 5.9 m\n",
    "\"\"\"\n",
    "\n",
    "saltos = []\n",
    "media_salt = 0\n",
    "somaSalt = 0\n",
    "varBooleana = True\n",
    "\n",
    "while varBooleana:\n",
    "    nome_atleta = input('Nome do atleta: ')\n",
    "    if nome_atleta == '':\n",
    "        print('Digite o nome do atleta!')\n",
    "        continue\n",
    "    else:\n",
    "        for i in range(5):\n",
    "            nota_salto = float( input('Nota do salto {}'.format(i+1)))\n",
    "            saltos.append(nota_salto)\n",
    "            somaSalt += saltos[i]\n",
    "        media_salt = somaSalt / 5\n",
    "\n",
    "        print('Resultado final:')\n",
    "        print('Atleta: {}'.format(nome_atleta))\n",
    "        print('Saltos: {}'.format(saltos))\n",
    "        print('Média de saltos: {}'.format(media_salt))\n",
    "        varBooleana = False"
   ]
  },
  {
   "cell_type": "code",
   "execution_count": 105,
   "metadata": {},
   "outputs": [
    {
     "name": "stdin",
     "output_type": "stream",
     "text": [
      "Número do jogador (0 = FIM):  22\n",
      "Número do jogador (0 = FIM):  22\n",
      "Número do jogador (0 = FIM):  22\n",
      "Número do jogador (0 = FIM):  3\n",
      "Número do jogador (0 = FIM):  3\n",
      "Número do jogador (0 = FIM):  4\n",
      "Número do jogador (0 = FIM):  0\n"
     ]
    },
    {
     "name": "stdout",
     "output_type": "stream",
     "text": [
      "\n",
      "\n",
      "Resultado da votação:\n",
      "Foram computados 6 votos \n",
      "\n",
      "Jogador  Votos       %\n",
      "  3        2       33.33%\n",
      "Jogador  Votos       %\n",
      "  4        1       16.67%\n",
      "Jogador  Votos       %\n",
      "  22        3       50.00%\n",
      "O melhor jogador foi o número 22 com 3 votos, correspondendo a 50.00 do total de votos\n"
     ]
    }
   ],
   "source": [
    "\"\"\"Uma grande emissora de televisão quer fazer uma enquete entre os seus telespectadores para saber\n",
    "qual o melhor jogador após cada jogo. Para isto, faz-se necessário o desenvolvimento de um programa,\n",
    "que será utilizado pelas telefonistas, para a computação dos votos. Sua equipe foi contratada para \n",
    "desenvolver este programa, utilizando a linguagem de programação C++. Para computar cada voto, a \n",
    "telefonista digitará um número, entre 1 e 23, correspondente ao número da camisa do jogador. Um número\n",
    "de jogador igual zero, indica que a votação foi encerrada. Se um número inválido for digitado, o programa\n",
    "deve ignorá-lo, mostrando uma breve mensagem de aviso, e voltando a pedir outro número. Após o final da\n",
    "votação, o programa deverá exibir:\n",
    "\n",
    "a - O total de votos computados;\n",
    "b - Os númeos e respectivos votos de todos os jogadores que receberam votos;\n",
    "c - O percentual de votos de cada um destes jogadores;\n",
    "d - O número do jogador escolhido como o melhor jogador da partida, juntamente com o número de votos e o \n",
    "percentual de votos dados a ele.\n",
    "\n",
    "Observe que os votos inválidos e o zero final não devem ser computados como votos. O resultado aparece\n",
    "ordenado pelo número do jogador. O programa deve fazer uso de arrays. O programa deverá executar o \n",
    "cálculo do percentual de cada jogador através de uma função. Esta função receberá dois parâmetros: \n",
    "o número de votos de um jogador e o total de votos. A função calculará o percentual e retornará o valor\n",
    "calculado. Abaixo segue uma tela de exemplo. O disposição das informações deve ser o mais próxima \n",
    "possível ao exemplo. Os dados são fictícios e podem mudar a cada execução do programa. Ao final, o \n",
    "programa deve ainda gravar os dados referentes ao resultado da votação em um arquivo texto no disco, \n",
    "obedecendo a mesma disposição apresentada na tela\n",
    "\"\"\"\n",
    "\n",
    "def percent(ind, vot):\n",
    "    perc = (ind / vot) * 100\n",
    "    return perc\n",
    "\n",
    "votos = [0, 0, 0, 0, 0, 0, 0, 0, 0, 0, 0, 0, 0, 0, 0, 0, 0, 0, 0, 0, 0, 0, 0, 0]\n",
    "jogadores = [1, 2, 3, 4, 5, 6, 7, 8, 9, 10, 11, 12, 13, 14, 15, 16, 17, 18, 19, 20, 21, 22, 23]\n",
    "\n",
    "contVoto = 0\n",
    "varBooleana = True\n",
    "voto = -1\n",
    "maisVotado = 0\n",
    "\n",
    "while voto != 0:\n",
    "    voto = int (input ('Número do jogador (0 = FIM): '))\n",
    "    \n",
    "    if voto < 0 or voto > 23:\n",
    "        print('Informe um valor entre 1 e 23 ou 0 para sair!')\n",
    "        continue\n",
    "    else:\n",
    "        if voto == 0:\n",
    "            break\n",
    "            \n",
    "        contVoto += 1\n",
    "        votos[voto] += 1\n",
    "    melhorPorcentagem = float(percent (votos[0], contVoto))\n",
    "arquivo = open('arq01.txt','w')                     \n",
    "\n",
    "print('\\n')\n",
    "arquivo.write('Resultado da votação:')\n",
    "print('Resultado da votação:')\n",
    "arquivo.write('Foram computados {} votos \\n'.format(contVoto))\n",
    "print('Foram computados {} votos \\n'.format(contVoto))\n",
    "arquivo.write('\\n')\n",
    "arquivo.write('Jogador  Votos       % \\n')\n",
    "\n",
    "for i in range(len(votos)):\n",
    "    maisVotado = max(votos, key = int)\n",
    "    porcentagemAtual = float(percent(votos[i], contVoto))\n",
    "    if votos[i] != 0:\n",
    "        indice = votos.index(maisVotado)\n",
    "        arquivo.write('\\n')\n",
    "        arquivo.write('  {}        {}       {:.2f}%'.format(jogadores[i-1], votos[i], percent(votos[i], contVoto)))\n",
    "        print('Jogador  Votos       %')\n",
    "        print('  {}        {}       {:.2f}%'.format(jogadores[i-1], votos[i], percent(votos[i], contVoto)))\n",
    "    if porcentagemAtual > melhorPorcentagem:\n",
    "        melhorPorcentagem = porcentagemAtual\n",
    "\n",
    "arquivo.write('\\n \\n')\n",
    "arquivo.write('O melhor jogador foi o número {} com {} votos, correspondendo a {:.2f} do total de votos'.format(indice, maisVotado, melhorPorcentagem))\n",
    "print('O melhor jogador foi o número {} com {} votos, correspondendo a {:.2f} do total de votos'.format(indice, maisVotado, melhorPorcentagem))\n",
    "arquivo.close()"
   ]
  },
  {
   "cell_type": "code",
   "execution_count": 29,
   "metadata": {},
   "outputs": [
    {
     "name": "stdin",
     "output_type": "stream",
     "text": [
      "Digite seu voto:  1\n",
      "Digite seu voto:  2\n",
      "Digite seu voto:  2\n",
      "Digite seu voto:  2\n",
      "Digite seu voto:  2\n",
      "Digite seu voto:  2\n",
      "Digite seu voto:  1\n",
      "Digite seu voto:  1\n",
      "Digite seu voto:  3\n",
      "Digite seu voto:  0\n"
     ]
    },
    {
     "name": "stdout",
     "output_type": "stream",
     "text": [
      "Sistema Operacional   Votos      %\n",
      "-------------------  -----      ---\n",
      "Windows Server    \t3    \t33.33%\n",
      "Unix        \t\t5    \t55.56%\n",
      "Linux        \t\t1    \t11.11%\n",
      "Netware        \t\t0    \t0.00%\n",
      "Mac OS        \t\t0    \t0.00%\n",
      "Outro        \t\t0    \t0.00%\n",
      "O Sistema Operacional mais votado foi o Unix, com 5 votos, correspondendo a 55.56 dos votos\n"
     ]
    }
   ],
   "source": [
    "\"\"\"Uma empresa de pesquisas precisa tabular os resultados da seguinte enquete feita a um grande \n",
    "quantidade de organizações:\n",
    "\n",
    "\"Qual o melhor Sistema Operacional para uso em servidores?\"\n",
    "\n",
    "As possíveis respostas são:\n",
    "\n",
    "1- Windows Server\n",
    "2- Unix\n",
    "3- Linux\n",
    "4- Netware\n",
    "5- Mac OS\n",
    "6- Outro\n",
    "\n",
    "Você foi contratado para desenvolver um programa que leia o resultado da enquete e informe ao final o \n",
    "resultado da mesma. O programa deverá ler os valores até ser informado o valor 0, que encerra a entrada\n",
    "dos dados. Não deverão ser aceitos valores além dos válidos para o programa (0 a 6). Os valores referentes\n",
    "a cada uma das opções devem ser armazenados num vetor. Após os dados terem sido completamente informados, \n",
    "o programa deverá calcular a percentual de cada um dos concorrentes e informar o vencedor da enquete. \n",
    "O formato da saída foi dado pela empresa, e é o seguinte:\n",
    "\n",
    "Sistema Operacional     Votos   %\n",
    "-------------------     -----   ---\n",
    "Windows Server           1500   17%\n",
    "Unix                     3500   40%\n",
    "Linux                    3000   34%\n",
    "Netware                   500    5%\n",
    "Mac OS                    150    2%\n",
    "Outro                     150    2%\n",
    "-------------------     -----\n",
    "Total                    8800\n",
    "\n",
    "O Sistema Operacional mais votado foi o Unix, com 3500 votos, correspondendo a 40% dos votos\"\"\"\n",
    "\n",
    "def percentagem (nIndividal, nTotal):\n",
    "    perc = (nIndividal / nTotal) * 100\n",
    "    return perc\n",
    "\n",
    "fim = -1\n",
    "soNum = [0, 0 , 0, 0, 0, 0]\n",
    "soString = ['Windows Server ', 'Unix', 'Linux', 'Netware', 'Mac OS', 'Outro' ]\n",
    "totalVotos = 0\n",
    "votoIndividual = 0\n",
    "melhorE = 0\n",
    "\n",
    "while fim != 0:\n",
    "    voto = int(input ('Digite seu voto: '))\n",
    "    \n",
    "    if voto < 0 or voto > 6:\n",
    "        print('Valor inválido: ')\n",
    "        continue\n",
    "    elif voto == 0:\n",
    "        break\n",
    "    totalVotos += 1\n",
    "    soNum[voto -1] += 1\n",
    "    maiorPercentual = float(percentagem(soNum[0], totalVotos))\n",
    "\n",
    "print('Sistema Operacional   Votos      %')\n",
    "print('-------------------  -----      ---')\n",
    "\n",
    "for i in range(len(soString)):\n",
    "    porcentagemAtual = percentagem(soNum[i], totalVotos)\n",
    "    if porcentagemAtual > maiorPercentual:\n",
    "        maiorPercentual = porcentagemAtual\n",
    "        melhorE = soString[i]\n",
    "        \n",
    "    if i == 0:\n",
    "        print('{}   \\t{}    \\t{:.2f}%'.format(soString[i], soNum[i], percentagem(soNum[i], totalVotos)))\n",
    "    elif i >= 1: \n",
    "        print('{}        \\t\\t{}    \\t{:.2f}%'.format(soString[i], soNum[i], percentagem(soNum[i], totalVotos)))\n",
    "\n",
    "print('O Sistema Operacional mais votado foi o {}, com {} votos, correspondendo a {:.2f}% dos votos'.format(melhorE, (max(soNum, key = int)), maiorPercentual))"
   ]
  },
  {
   "cell_type": "code",
   "execution_count": null,
   "metadata": {},
   "outputs": [],
   "source": []
  }
 ],
 "metadata": {
  "kernelspec": {
   "display_name": "Python 3",
   "language": "python",
   "name": "python3"
  },
  "language_info": {
   "codemirror_mode": {
    "name": "ipython",
    "version": 3
   },
   "file_extension": ".py",
   "mimetype": "text/x-python",
   "name": "python",
   "nbconvert_exporter": "python",
   "pygments_lexer": "ipython3",
   "version": "3.7.1"
  }
 },
 "nbformat": 4,
 "nbformat_minor": 2
}
