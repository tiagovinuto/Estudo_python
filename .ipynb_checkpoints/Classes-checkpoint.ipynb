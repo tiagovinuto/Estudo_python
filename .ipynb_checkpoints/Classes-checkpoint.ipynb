{
 "cells": [
  {
   "cell_type": "code",
   "execution_count": 3,
   "metadata": {},
   "outputs": [
    {
     "ename": "SyntaxError",
     "evalue": "non-default argument follows default argument (<ipython-input-3-0c6c6d312eb3>, line 7)",
     "output_type": "error",
     "traceback": [
      "\u001b[0;36m  File \u001b[0;32m\"<ipython-input-3-0c6c6d312eb3>\"\u001b[0;36m, line \u001b[0;32m7\u001b[0m\n\u001b[0;31m    def __init__(self, cor = 'Azul', circunferencia, material):\u001b[0m\n\u001b[0m                ^\u001b[0m\n\u001b[0;31mSyntaxError\u001b[0m\u001b[0;31m:\u001b[0m non-default argument follows default argument\n"
     ]
    }
   ],
   "source": [
    "\"\"\"Classe Bola: Crie uma classe que modele uma bola:\n",
    "\n",
    "a - Atributos: Cor, circunferência, material\n",
    "b - Métodos: trocaCor e mostraCor \"\"\"\n",
    "\n",
    "class Bola():\n",
    "    def __init__(self, cor = 'Azul', circunferencia = None, material= None):\n",
    "        self.cor = cor\n",
    "        self.circunferencia = circunferencia\n",
    "        self.material = material\n",
    "   \n",
    "    def trocaCor(self, novaCor):\n",
    "        self.novaCor = novaCor\n",
    "        novaCorr = self.cor = self.novaCor\n",
    "        return novaCorr\n",
    "    \n",
    "    def mostraCor(self):\n",
    "        self.novaCor        "
   ]
  },
  {
   "cell_type": "code",
   "execution_count": null,
   "metadata": {},
   "outputs": [],
   "source": []
  }
 ],
 "metadata": {
  "kernelspec": {
   "display_name": "Python 3",
   "language": "python",
   "name": "python3"
  },
  "language_info": {
   "codemirror_mode": {
    "name": "ipython",
    "version": 3
   },
   "file_extension": ".py",
   "mimetype": "text/x-python",
   "name": "python",
   "nbconvert_exporter": "python",
   "pygments_lexer": "ipython3",
   "version": "3.7.7"
  }
 },
 "nbformat": 4,
 "nbformat_minor": 4
}
