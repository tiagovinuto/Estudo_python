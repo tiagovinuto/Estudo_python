{
 "cells": [
  {
   "cell_type": "code",
   "execution_count": 9,
   "metadata": {},
   "outputs": [
    {
     "name": "stdin",
     "output_type": "stream",
     "text": [
      "Digite uma nota:  -1\n"
     ]
    },
    {
     "name": "stdout",
     "output_type": "stream",
     "text": [
      "-1.0\n",
      "Nota inválida: \n"
     ]
    },
    {
     "name": "stdin",
     "output_type": "stream",
     "text": [
      "Digite uma nota:  5\n"
     ]
    },
    {
     "name": "stdout",
     "output_type": "stream",
     "text": [
      "5.0\n",
      "Nota Válida\n"
     ]
    }
   ],
   "source": [
    "\"\"\"Faça um programa que peça uma nota, entre zero e dez. Mostre uma mensagem caso o valor seja inválido\n",
    "e continue pedindo até que o usuário informe um valor válido.\"\"\"\n",
    "\n",
    "var1 = True\n",
    "\n",
    "while var1:\n",
    "    notaAluno = float(input('Digite uma nota: '))\n",
    "    print(notaAluno)\n",
    "    if notaAluno < 0.0 or notaAluno > 10.0:\n",
    "        print('Nota inválida: ')\n",
    "    else:\n",
    "        print('Nota Válida')\n",
    "        var1 = False"
   ]
  },
  {
   "cell_type": "code",
   "execution_count": 10,
   "metadata": {},
   "outputs": [
    {
     "name": "stdin",
     "output_type": "stream",
     "text": [
      "Digite o nome do usuário:  tiago\n",
      "Digite uma senha tiago\n"
     ]
    },
    {
     "name": "stdout",
     "output_type": "stream",
     "text": [
      "Sua senha não pode ser igual seu nome de usuário!\n"
     ]
    },
    {
     "name": "stdin",
     "output_type": "stream",
     "text": [
      "Digite o nome do usuário:  thiago\n",
      "Digite uma senha tiago\n"
     ]
    },
    {
     "name": "stdout",
     "output_type": "stream",
     "text": [
      "Sucesso!!\n"
     ]
    }
   ],
   "source": [
    "\"\"\"Faça um programa que leia um nome de usuário e a sua senha e não aceite a senha igual ao nome do \n",
    "usuário, mostrando uma mensagem de erro e voltando a pedir as informações.\"\"\"\n",
    "\n",
    "var2 = True\n",
    "\n",
    "while var2:\n",
    "    nomeUsuario = input('Digite o nome do usuário: ')\n",
    "    senhaUsuario = input('Digite uma senha')\n",
    "\n",
    "    if nomeUsuario == senhaUsuario:\n",
    "        print('Sua senha não pode ser igual seu nome de usuário!')\n",
    "    else:\n",
    "        print('Sucesso!!')\n",
    "        var2 = False\n"
   ]
  },
  {
   "cell_type": "code",
   "execution_count": 22,
   "metadata": {},
   "outputs": [
    {
     "name": "stdin",
     "output_type": "stream",
     "text": [
      "Digite seu nome:  tiago\n"
     ]
    },
    {
     "name": "stdout",
     "output_type": "stream",
     "text": [
      "1 - Sucesso!\n"
     ]
    },
    {
     "name": "stdin",
     "output_type": "stream",
     "text": [
      "Digite sua idade:  23\n"
     ]
    },
    {
     "name": "stdout",
     "output_type": "stream",
     "text": [
      "2 - Sucesso!\n"
     ]
    },
    {
     "name": "stdin",
     "output_type": "stream",
     "text": [
      "Digite seu salario:  20200\n"
     ]
    },
    {
     "name": "stdout",
     "output_type": "stream",
     "text": [
      "Sucesso!\n"
     ]
    },
    {
     "name": "stdin",
     "output_type": "stream",
     "text": [
      "Digite seu sexo:  h\n"
     ]
    },
    {
     "name": "stdout",
     "output_type": "stream",
     "text": [
      "Sexo Inválido!!\n"
     ]
    },
    {
     "name": "stdin",
     "output_type": "stream",
     "text": [
      "Digite seu sexo:  m\n"
     ]
    },
    {
     "name": "stdout",
     "output_type": "stream",
     "text": [
      "Sucesso!\n"
     ]
    },
    {
     "name": "stdin",
     "output_type": "stream",
     "text": [
      "Digite seu esatdo civil:  x\n"
     ]
    },
    {
     "name": "stdout",
     "output_type": "stream",
     "text": [
      "Estado Cívil Inválido!!\n"
     ]
    },
    {
     "name": "stdin",
     "output_type": "stream",
     "text": [
      "Digite seu esatdo civil:  s\n"
     ]
    },
    {
     "name": "stdout",
     "output_type": "stream",
     "text": [
      "Sucesso!\n"
     ]
    }
   ],
   "source": [
    "\"\"\"Faça um programa que leia e valide as seguintes informações:\n",
    "Nome: maior que 3 caracteres;\n",
    "Idade: entre 0 e 150;\n",
    "Salário: maior que zero;\n",
    "Sexo: 'f' ou 'm';\n",
    "Estado Civil: 's', 'c', 'v', 'd';\"\"\"\n",
    "\n",
    "#salario = float(input('Digite seu salário: '))\n",
    "#sexo = input('Digite seu sexo: ')\n",
    "#estCivil = input('Digite seu estado civil')\n",
    "\n",
    "name = True\n",
    "while name :\n",
    "    nome = input('Digite seu nome: ')\n",
    "    if len(nome) <= 3:\n",
    "        print('O nome deve ter mais que 3 caracteres!')\n",
    "    else:\n",
    "        print('1 - Sucesso!')\n",
    "        name = False\n",
    "\n",
    "idad = True \n",
    "while idad:\n",
    "    idade = int(input('Digite sua idade: '))\n",
    "    if idade < 0 or idade > 150:\n",
    "        print('Idade Inválida!!')\n",
    "    else: \n",
    "        print('2 - Sucesso!') \n",
    "        idad = False\n",
    "\n",
    "sar = True\n",
    "while sar:\n",
    "    salario = int(input('Digite seu salario: '))\n",
    "    if  salario <= 0.0:\n",
    "        print('Salário Invalido!! ')\n",
    "    else:\n",
    "        print('Sucesso!') \n",
    "        sar = False\n",
    "\n",
    "sex = True\n",
    "while sex:\n",
    "    sexo = input('Digite seu sexo: ')\n",
    "    if sexo != 'f' and sexo != 'm':\n",
    "        print('Sexo Inválido!!')\n",
    "    else:\n",
    "        print('Sucesso!')\n",
    "        sex = False\n",
    "        \n",
    "eCivil = True\n",
    "while eCivil:\n",
    "    estCivil = input('Digite seu esatdo civil: ')\n",
    "    if estCivil != 's' and estCivil != 'c' and estCivil != 'v' and estCivil != 'd':\n",
    "        print('Estado Cívil Inválido!!')\n",
    "    else:\n",
    "        print('Sucesso!') \n",
    "        eCivil = False       \n",
    "    "
   ]
  },
  {
   "cell_type": "code",
   "execution_count": 20,
   "metadata": {},
   "outputs": [
    {
     "name": "stdout",
     "output_type": "stream",
     "text": [
      "Levou 63 anos para as cidades se igualarem\n"
     ]
    }
   ],
   "source": [
    "\"\"\"Supondo que a população de um país A seja da ordem de 80000 habitantes com uma taxa anual de\n",
    "crescimento de 3% e que a população de B seja 200000 habitantes com uma taxa de crescimento de 1.5%.\n",
    "Faça um programa que calcule e escreva o número de anos necessários para que a população do país A \n",
    "ultrapasse ou iguale a população do país B, mantidas as taxas de crescimento.\"\"\"\n",
    "\n",
    "cidadeA = 80000\n",
    "cidadeB = 200000\n",
    "\n",
    "anos = 0\n",
    "while cidadeA <= cidadeB:\n",
    "    cidadeA = cidadeA + (cidadeA * 3 / 100)\n",
    "    cidadeB = cidadeB + (cidadeB * 1.5 / 100)\n",
    "    anos = anos + 1\n",
    "print('Levou {} anos para as cidades se igualarem'.format(anos))\n"
   ]
  },
  {
   "cell_type": "code",
   "execution_count": 43,
   "metadata": {},
   "outputs": [
    {
     "name": "stdin",
     "output_type": "stream",
     "text": [
      "Digite o tamanho da população da cidade A:  -444\n"
     ]
    },
    {
     "name": "stdout",
     "output_type": "stream",
     "text": [
      "Valor Invalido!!\n"
     ]
    },
    {
     "name": "stdin",
     "output_type": "stream",
     "text": [
      "Digite o tamanho da população da cidade A:  4565\n",
      "Digite o tamanho da população da cidade B:  -3333\n"
     ]
    },
    {
     "name": "stdout",
     "output_type": "stream",
     "text": [
      "Valor Invalido!!\n"
     ]
    },
    {
     "name": "stdin",
     "output_type": "stream",
     "text": [
      "Digite o tamanho da população da cidade B:  3455\n",
      "Digite a taxa de crescimento da cidade A:  -2\n"
     ]
    },
    {
     "name": "stdout",
     "output_type": "stream",
     "text": [
      "Valor Invalido!!\n"
     ]
    },
    {
     "name": "stdin",
     "output_type": "stream",
     "text": [
      "Digite a taxa de crescimento da cidade A:  2\n",
      "Digite a taxa de crescimento da cidade B:  -333\n"
     ]
    },
    {
     "name": "stdout",
     "output_type": "stream",
     "text": [
      "Valor Invalido!!\n"
     ]
    },
    {
     "name": "stdin",
     "output_type": "stream",
     "text": [
      "Digite a taxa de crescimento da cidade B:  1\n"
     ]
    },
    {
     "name": "stdout",
     "output_type": "stream",
     "text": [
      "Levou 0 anos para as cidades se igualarem\n"
     ]
    },
    {
     "name": "stdin",
     "output_type": "stream",
     "text": [
      "Deseja repetir a operação?:  n\n"
     ]
    }
   ],
   "source": [
    "\"\"\"Altere o programa anterior permitindo ao usuário informar as populações e as taxas de crescimento\n",
    "iniciais. Valide a entrada e permita repetir a operação.\"\"\"\n",
    "\n",
    "cidadeA = 0.0\n",
    "cidadeB = 0.0\n",
    "\n",
    "var4 = True\n",
    "\n",
    "while var4:\n",
    "    cidadA = True \n",
    "    while cidadA:\n",
    "        cidadeA = float(input('Digite o tamanho da população da cidade A: '))\n",
    "        if cidadeA < 0.0:\n",
    "            print('Valor Invalido!!')\n",
    "        else:\n",
    "            cidadA = False\n",
    "            var4 = False\n",
    "    cidadB = True        \n",
    "    while cidadB:\n",
    "        cidadeB = float(input('Digite o tamanho da população da cidade B: '))\n",
    "        if cidadeB < 0.0:\n",
    "            print('Valor Invalido!!')\n",
    "        else:\n",
    "            cidadA = False\n",
    "            cidadB = False\n",
    "            var4 = False\n",
    "    taxA = True        \n",
    "    while taxA:\n",
    "        taxaCrescimentoA = float(input('Digite a taxa de crescimento da cidade A: '))\n",
    "        if taxaCrescimentoA < 0.0:\n",
    "            print('Valor Invalido!!')\n",
    "        else:\n",
    "            cidadA = False\n",
    "            cidadB = False\n",
    "            taxA = False\n",
    "            var4 = False\n",
    "    taxB = True  \n",
    "    while taxB:\n",
    "        taxaCrescimentoB = float(input('Digite a taxa de crescimento da cidade B: '))\n",
    "        if taxaCrescimentoB < 0.0:\n",
    "            print('Valor Invalido!!')\n",
    "        else:\n",
    "            cidadA = False\n",
    "            cidadB = False\n",
    "            taxA = False\n",
    "            taxB = False\n",
    "            var4 = False\n",
    "    anos = 0\n",
    "    while cidadeA <= cidadeB:\n",
    "        cidadeA = cidadeA + (cidadeA * taxaCrescimentoA / 100)\n",
    "        cidadeB = cidadeB + (cidadeB * taxaCrescimentoB / 100)\n",
    "        anos = anos + 1\n",
    "    print('Levou {} anos para as cidades se igualarem'.format(anos))\n",
    "\n",
    "    continua = input('Deseja repetir a operação?: ')\n",
    "\n",
    "    if continua == 's':\n",
    "        continue\n",
    "    else:\n",
    "        var4 = False\n",
    "    "
   ]
  },
  {
   "cell_type": "code",
   "execution_count": 52,
   "metadata": {},
   "outputs": [
    {
     "name": "stdin",
     "output_type": "stream",
     "text": [
      "Digite um numero:  10\n"
     ]
    },
    {
     "name": "stdout",
     "output_type": "stream",
     "text": [
      "0\n",
      "1\n",
      "2\n",
      "3\n",
      "4\n",
      "5\n",
      "6\n",
      "7\n",
      "8\n",
      "9\n",
      "0123456789"
     ]
    }
   ],
   "source": [
    "\"\"\"Faça um programa que imprima na tela os números de 1 a 20, um abaixo do outro.\n",
    "Depois modifique o programa para que ele mostre os números um ao lado do outro.\"\"\"\n",
    "\n",
    "try:\n",
    "    nums = int(input('Digite um numero: '))\n",
    "    for i in range(nums):\n",
    "        print(i)\n",
    "    for i in range(nums):\n",
    "        print(i, end = '')\n",
    "except ValueError:\n",
    "    print('Valor inválido')"
   ]
  },
  {
   "cell_type": "code",
   "execution_count": 4,
   "metadata": {},
   "outputs": [
    {
     "name": "stdin",
     "output_type": "stream",
     "text": [
      "Digite um numero:  2\n",
      "Digite um numero:  8\n",
      "Digite um numero:  15\n",
      "Digite um numero:  3\n",
      "Digite um numero:  6\n"
     ]
    },
    {
     "name": "stdout",
     "output_type": "stream",
     "text": [
      "O maior numero digitado é 15\n"
     ]
    }
   ],
   "source": [
    "\"\"\"Faça um programa que leia 5 números e informe o maior número.\"\"\"\n",
    "\n",
    "num01 = 0\n",
    "maior = []\n",
    "\n",
    "while num01 < 5:\n",
    "    nums01 = int(input('Digite um numero: '))\n",
    "    maior.append(nums01)\n",
    "    num01 = num01 + 1\n",
    "print('O maior numero digitado é {}'.format(max(maior)))\n",
    "    \n"
   ]
  },
  {
   "cell_type": "code",
   "execution_count": 6,
   "metadata": {},
   "outputs": [
    {
     "name": "stdin",
     "output_type": "stream",
     "text": [
      "Digite um numero:  2\n",
      "Digite um numero:  3\n",
      "Digite um numero:  4\n",
      "Digite um numero:  5\n",
      "Digite um numero:  6\n"
     ]
    },
    {
     "name": "stdout",
     "output_type": "stream",
     "text": [
      "O maior numero digitado é 20\n",
      "O maior numero digitado é 4.0\n"
     ]
    }
   ],
   "source": [
    "\"\"\"Faça um programa que leia 5 números e informe a soma e a média dos números.\"\"\"\n",
    "\n",
    "num01 = 0\n",
    "numeros00 = []\n",
    "\n",
    "while num01 < 5:\n",
    "    nums01 = int(input('Digite um numero: '))\n",
    "    numeros00.append(nums01)\n",
    "    num01 = num01 + 1\n",
    "print('O maior numero digitado é {}'.format(sum(numeros00)))\n",
    "print('O maior numero digitado é {}'.format(sum(numeros00)/num01))"
   ]
  },
  {
   "cell_type": "code",
   "execution_count": 9,
   "metadata": {},
   "outputs": [
    {
     "name": "stdout",
     "output_type": "stream",
     "text": [
      "1 3 5 7 9 11 13 15 17 19 21 23 25 27 29 31 33 35 37 39 41 43 45 47 49 "
     ]
    }
   ],
   "source": [
    "\"\"\"Faça um programa que imprima na tela apenas os números ímpares entre 1 e 50.\"\"\"\n",
    "\n",
    "numImpar = 0\n",
    "\n",
    "while numImpar <= 50:\n",
    "    if numImpar % 2 != 0:\n",
    "        print(numImpar, end = ' ')\n",
    "    numImpar = numImpar + 1"
   ]
  },
  {
   "cell_type": "code",
   "execution_count": 13,
   "metadata": {},
   "outputs": [
    {
     "name": "stdin",
     "output_type": "stream",
     "text": [
      "Digite o primeiro numero:  2\n",
      "Digite o segundo numero:  10\n"
     ]
    },
    {
     "name": "stdout",
     "output_type": "stream",
     "text": [
      "3 4 5 6 7 8 9 "
     ]
    }
   ],
   "source": [
    "\"\"\"Faça um programa que receba dois números inteiros e gere os números inteiros que estão no intervalo\n",
    "compreendido por eles.\"\"\"\n",
    "\n",
    "numero02 = int(input('Digite o primeiro numero: '))\n",
    "numero03 = int(input('Digite o segundo numero: '))\n",
    "cont = 0\n",
    "\n",
    "while cont < numero03:\n",
    "    if cont > numero02 and cont < numero03:\n",
    "        print(cont, end = ' ')\n",
    "    cont = cont + 1"
   ]
  },
  {
   "cell_type": "code",
   "execution_count": 20,
   "metadata": {},
   "outputs": [
    {
     "name": "stdin",
     "output_type": "stream",
     "text": [
      "Digite o primeiro numero:  2\n",
      "Digite o segundo numero:  8\n"
     ]
    },
    {
     "name": "stdout",
     "output_type": "stream",
     "text": [
      "A soma dos números é 25\n"
     ]
    }
   ],
   "source": [
    "\"\"\"Altere o programa anterior para mostrar no final a soma dos números.\"\"\"\n",
    "\n",
    "numero02 = int(input('Digite o primeiro numero: '))\n",
    "numero03 = int(input('Digite o segundo numero: '))\n",
    "soma = 0\n",
    "cont = 0\n",
    "\n",
    "while cont < numero03:\n",
    "    if cont > numero02 and cont < numero03:\n",
    "        soma = soma + cont\n",
    "    cont = cont + 1\n",
    "print('A soma dos números é {}'.format(soma))\n",
    "   "
   ]
  },
  {
   "cell_type": "code",
   "execution_count": 23,
   "metadata": {},
   "outputs": [
    {
     "name": "stdin",
     "output_type": "stream",
     "text": [
      "Digite o numero que quer ver na tabuada 5\n"
     ]
    },
    {
     "name": "stdout",
     "output_type": "stream",
     "text": [
      "5 x 0 = 0\n",
      "5 x 1 = 5\n",
      "5 x 2 = 10\n",
      "5 x 3 = 15\n",
      "5 x 4 = 20\n",
      "5 x 5 = 25\n",
      "5 x 6 = 30\n",
      "5 x 7 = 35\n",
      "5 x 8 = 40\n",
      "5 x 9 = 45\n"
     ]
    }
   ],
   "source": [
    "\"\"\"Desenvolva um gerador de tabuada, capaz de gerar a tabuada de qualquer número inteiro entre 1 a 10.\n",
    "O usuário deve informar de qual numero ele deseja ver a tabuada. A saída deve ser conforme o exemplo \n",
    "abaixo:\n",
    "\n",
    "Tabuada de 5:\n",
    "5 X 1 = 5\n",
    "5 X 2 = 10\n",
    "...\n",
    "5 X 10 = 50\n",
    "\"\"\"\n",
    "\n",
    "num_tabuada = int(input('Digite o numero que quer ver na tabuada'))\n",
    "\n",
    "cont = 0\n",
    "while cont < 10:\n",
    "    mult = num_tabuada * cont\n",
    "    print('{} x {} = {}'.format(num_tabuada, cont, mult))\n",
    "    cont = cont + 1"
   ]
  },
  {
   "cell_type": "code",
   "execution_count": 20,
   "metadata": {},
   "outputs": [
    {
     "name": "stdin",
     "output_type": "stream",
     "text": [
      "Base:  2\n",
      "Expoente:  4\n"
     ]
    },
    {
     "name": "stdout",
     "output_type": "stream",
     "text": [
      "2\n",
      "4\n",
      "8\n",
      "16\n"
     ]
    }
   ],
   "source": [
    "\"\"\"Faça um programa que peça dois números, base e expoente, calcule e mostre o primeiro\n",
    "número elevado ao segundo número. Não utilize a função de potência da linguagem.\"\"\"\n",
    "\n",
    "base = int(input('Base: '))\n",
    "expoente = int(input('Expoente: '))\n",
    "\n",
    "cont = 0\n",
    "result = 1\n",
    "\n",
    "while cont < expoente:\n",
    "    result = result * base\n",
    "    print(result)\n",
    "    cont +=1\n"
   ]
  },
  {
   "cell_type": "code",
   "execution_count": null,
   "metadata": {},
   "outputs": [],
   "source": [
    "\"\"\"Faça um programa que peça 10 números inteiros, calcule e mostre a quantidade de números\n",
    "pares e a quantidade de números impares.\"\"\"\n"
   ]
  },
  {
   "cell_type": "code",
   "execution_count": 30,
   "metadata": {},
   "outputs": [
    {
     "name": "stdin",
     "output_type": "stream",
     "text": [
      "Digite o n-ésimo termo da serie:  21\n"
     ]
    },
    {
     "name": "stdout",
     "output_type": "stream",
     "text": [
      "1\n",
      "1\n",
      "2\n",
      "3\n",
      "5\n",
      "8\n",
      "13\n",
      "21\n",
      "34\n",
      "55\n",
      "89\n",
      "144\n",
      "233\n",
      "377\n",
      "610\n",
      "987\n",
      "1597\n",
      "2584\n",
      "4181\n",
      "6765\n"
     ]
    }
   ],
   "source": [
    "\"\"\"A série de Fibonacci é formada pela seqüência 1,1,2,3,5,8,13,21,34,55,... \n",
    "Faça um programa capaz de gerar a série até o n−ésimo termo.\"\"\"\n",
    "\n",
    "nesimoTermo = int(input('Digite o n-ésimo termo da serie: '))\n",
    "\n",
    "t1 = 1\n",
    "t2 = 1\n",
    "result = 0\n",
    "print(t1)\n",
    "print(t2)\n",
    "\n",
    "cont = 0\n",
    "\n",
    "while cont < nesimoTermo:\n",
    "    if cont > 2:\n",
    "        result = t1 + t2\n",
    "        print(result)\n",
    "        t1 = t2\n",
    "        t2 = result \n",
    "    cont += 1\n",
    "    "
   ]
  },
  {
   "cell_type": "code",
   "execution_count": 32,
   "metadata": {},
   "outputs": [
    {
     "name": "stdout",
     "output_type": "stream",
     "text": [
      "1\n",
      "1\n",
      "2\n",
      "3\n",
      "5\n",
      "8\n",
      "13\n",
      "21\n",
      "34\n",
      "55\n",
      "89\n",
      "144\n",
      "233\n",
      "377\n",
      "610\n"
     ]
    }
   ],
   "source": [
    "\"\"\"A série de Fibonacci é formada pela seqüência 0,1,1,2,3,5,8,13,21,34,55,... \n",
    "Faça um programa que gere a série até que o valor seja maior que 500.\"\"\"\n",
    "\n",
    "t1 = 1\n",
    "t2 = 1\n",
    "result = 0\n",
    "print(t1)\n",
    "print(t2)\n",
    "\n",
    "cont = True\n",
    "\n",
    "while cont:\n",
    "    if cont > 2:\n",
    "        result = t1 + t2\n",
    "        print(result)\n",
    "        t1 = t2\n",
    "        t2 = result\n",
    "        if result > 500:\n",
    "            break\n",
    "    cont += 1"
   ]
  },
  {
   "cell_type": "code",
   "execution_count": 14,
   "metadata": {},
   "outputs": [
    {
     "name": "stdin",
     "output_type": "stream",
     "text": [
      "Digite um numero:  6\n"
     ]
    },
    {
     "name": "stdout",
     "output_type": "stream",
     "text": [
      "720\n"
     ]
    }
   ],
   "source": [
    "\"\"\"Faça um programa que calcule o fatorial de um número inteiro fornecido pelo usuário. \n",
    "Ex.: 5!=5.4.3.2.1=120\"\"\"\n",
    "\n",
    "fat = int(input('Digite um numero: '))\n",
    "\n",
    "cont = 1\n",
    "result = fat\n",
    "\n",
    "while cont < fat:\n",
    "    result = result * (fat - cont)\n",
    "    cont += 1\n",
    "print(result)\n"
   ]
  },
  {
   "cell_type": "code",
   "execution_count": 12,
   "metadata": {},
   "outputs": [
    {
     "name": "stdin",
     "output_type": "stream",
     "text": [
      "Digite um numero:  5\n"
     ]
    },
    {
     "name": "stdout",
     "output_type": "stream",
     "text": [
      "25\n",
      "14\n",
      "36\n",
      "49\n",
      "13\n",
      "Menor valor: 13\n",
      "Maior valor: 49\n",
      "Soma dos valores: 137\n"
     ]
    }
   ],
   "source": [
    "\"\"\"Faça um programa que, dado um conjunto de N números, determine o menor valor, o maior valor\n",
    "e a soma dos valores.\"\"\"\n",
    "\n",
    "import random as r\n",
    "\n",
    "nNumeros = int( input('Digite um numero: '))\n",
    "\n",
    "menor = 51\n",
    "maior = 0\n",
    "soma = 0\n",
    "\n",
    "for i in range(nNumeros):\n",
    "    nRandom = r.randint(1, 50)\n",
    "    soma += nRandom \n",
    "    print(nRandom)\n",
    "    if nRandom < menor:\n",
    "        menor = nRandom\n",
    "    if nRandom > maior:\n",
    "        maior = nRandom\n",
    "print('Menor valor: {}'.format(menor))\n",
    "print('Maior valor: {}'.format(maior))\n",
    "print('Soma dos valores: {}'.format(soma))\n",
    "    "
   ]
  },
  {
   "cell_type": "code",
   "execution_count": 14,
   "metadata": {},
   "outputs": [
    {
     "name": "stdin",
     "output_type": "stream",
     "text": [
      "Digite um numero:  3\n"
     ]
    },
    {
     "name": "stdout",
     "output_type": "stream",
     "text": [
      "451\n",
      "789\n",
      "82\n",
      "Menor valor: 82\n",
      "Maior valor: 789\n",
      "Soma dos valores: 1322\n"
     ]
    }
   ],
   "source": [
    "\"\"\"Altere o programa anterior para que ele aceite apenas números entre 0 e 1000.\"\"\"\n",
    "\n",
    "import random as r\n",
    "\n",
    "nNumeros = int( input('Digite um numero: '))\n",
    "\n",
    "menor = 1001\n",
    "maior = 0\n",
    "soma = 0\n",
    "\n",
    "for i in range(nNumeros):\n",
    "    nRandom = r.randint(1, 1000)\n",
    "    soma += nRandom \n",
    "    print(nRandom)\n",
    "    if nRandom < menor:\n",
    "        menor = nRandom\n",
    "    if nRandom > maior:\n",
    "        maior = nRandom\n",
    "print('Menor valor: {}'.format(menor))\n",
    "print('Maior valor: {}'.format(maior))\n",
    "print('Soma dos valores: {}'.format(soma))"
   ]
  },
  {
   "cell_type": "code",
   "execution_count": 4,
   "metadata": {},
   "outputs": [
    {
     "name": "stdin",
     "output_type": "stream",
     "text": [
      "Digite um numero:  5\n"
     ]
    },
    {
     "name": "stdout",
     "output_type": "stream",
     "text": [
      "120\n"
     ]
    },
    {
     "name": "stdin",
     "output_type": "stream",
     "text": [
      "Deseja continuar:  s\n",
      "Digite um numero:  6\n"
     ]
    },
    {
     "name": "stdout",
     "output_type": "stream",
     "text": [
      "720\n"
     ]
    },
    {
     "name": "stdin",
     "output_type": "stream",
     "text": [
      "Deseja continuar:  n\n"
     ]
    }
   ],
   "source": [
    "\"\"\"Altere o programa de cálculo do fatorial, permitindo ao usuário calcular o fatorial várias vezes\n",
    "e limitando o fatorial a números inteiros positivos e menores que 16.\"\"\"\n",
    "\n",
    "cont = True\n",
    "\n",
    "while cont:\n",
    "    fat = int(input('Digite um numero: '))\n",
    "    \n",
    "    if fat > 0 and fat <= 16:\n",
    "        cont1 = 1\n",
    "        result = fat\n",
    "\n",
    "        while cont1 < fat:\n",
    "            result = result * (fat - cont1)\n",
    "            cont1 += 1\n",
    "        print(result)\n",
    "        pergunta = input('Deseja continuar: ')\n",
    "        if pergunta == 's':\n",
    "            continue\n",
    "        else:\n",
    "            cont = False\n",
    "    else:\n",
    "        print('Valor invalido!')\n",
    "        continue\n"
   ]
  },
  {
   "cell_type": "code",
   "execution_count": 17,
   "metadata": {},
   "outputs": [
    {
     "name": "stdin",
     "output_type": "stream",
     "text": [
      "Digite um numero:  17\n"
     ]
    },
    {
     "name": "stdout",
     "output_type": "stream",
     "text": [
      "Numero primo!\n"
     ]
    }
   ],
   "source": [
    "\"\"\"Faça um programa que peça um número inteiro e determine se ele é ou não um número primo. \n",
    "Um número primo é aquele que é divisível somente por ele mesmo e por 1.\"\"\"\n",
    "\n",
    "numPrimo = int(input('Digite um numero: '))\n",
    "\n",
    "cont = 1\n",
    "div = 0\n",
    "\n",
    "while cont <= numPrimo:\n",
    "    if numPrimo % cont == 0:\n",
    "        div += 1\n",
    "    else:\n",
    "        pass\n",
    "    cont += 1      \n",
    "if numPrimo % numPrimo == 0 and numPrimo % 1 == 0 and div == 2:\n",
    "    print('Numero primo!')\n",
    "else:\n",
    "    print('Numero não Primo!')\n"
   ]
  },
  {
   "cell_type": "code",
   "execution_count": null,
   "metadata": {},
   "outputs": [],
   "source": [
    "\"\"\"Faça um programa que peça um número inteiro e determine se ele é ou não um número primo. \n",
    "Um número primo é aquele que é divisível somente por ele mesmo e por 1. [OUTRA FORMA]\"\"\"\n",
    "\n",
    "num = int(input (\"\\nDigite um numero inteiro para saber se é primo: \"))\n",
    "cont = 0\n",
    "div = []\n",
    "\n",
    "for i in range(num):\n",
    "\n",
    "    if num%(i+1) == 0:\n",
    "\n",
    "        cont += 1\n",
    "        div.append(i+1)\n",
    "\n",
    "    else:\n",
    "\n",
    "        cont\n",
    "        \n",
    "\n",
    "if cont == 2:\n",
    "\n",
    "    print (\"O numero é primo divisivel por \",div)\n",
    "\n",
    "else:\n",
    "\n",
    "    print (\"O numero não é primo pois é divisivel por \",div)"
   ]
  },
  {
   "cell_type": "code",
   "execution_count": 35,
   "metadata": {},
   "outputs": [
    {
     "name": "stdin",
     "output_type": "stream",
     "text": [
      "Digite um numero:  17\n"
     ]
    },
    {
     "name": "stdout",
     "output_type": "stream",
     "text": [
      "Numero primo!\n"
     ]
    }
   ],
   "source": [
    "\"\"\"Altere o programa de cálculo dos números primos, informando, caso o número não seja primo, \n",
    "por quais número ele é divisível.\n",
    "\n",
    "Um número primo é aquele que é divisível somente por ele mesmo e por 1.\n",
    "\n",
    "\"\"\"\n",
    "\n",
    "numPrimo = int(input('Digite um numero: '))\n",
    "\n",
    "cont = 1\n",
    "div = 0\n",
    "\n",
    "numDiv = []\n",
    "while cont <= numPrimo:\n",
    "    if numPrimo % cont == 0:\n",
    "        div += 1\n",
    "        numDiv.append(cont)\n",
    "    else:\n",
    "        pass\n",
    "    cont += 1    \n",
    "    \n",
    "if numPrimo % numPrimo == 0 and numPrimo % 1 == 0 and div == 2:\n",
    "    print('Numero primo!')\n",
    "else:\n",
    "    print('Numero não Primo, mas é divisivel por {}'.format(numDiv))\n"
   ]
  },
  {
   "cell_type": "code",
   "execution_count": 28,
   "metadata": {},
   "outputs": [
    {
     "name": "stdin",
     "output_type": "stream",
     "text": [
      "Digite um numero:  20\n"
     ]
    },
    {
     "name": "stdout",
     "output_type": "stream",
     "text": [
      "Numeros primos [2, 3, 5, 7, 11, 13, 17, 19] entre 1 e 20\n",
      "Numero de divisões 210\n"
     ]
    }
   ],
   "source": [
    "\"\"\"Faça um programa que mostre todos os primos entre 1 e N sendo N um número inteiro fornecido pelo\n",
    "usuário. O programa deverá mostrar também o número de divisões que ele executou para encontrar os \n",
    "números primos. Serão avaliados o funcionamento, o estilo e o número de testes (divisões) executados.\"\"\"\n",
    "\n",
    "numPrimo1 = int (input ('Digite um numero: '))\n",
    "numDiv = []\n",
    "cont1 = 1\n",
    "div1 = 0\n",
    "div2 = 0\n",
    "#divTotal = 0\n",
    "primos = []\n",
    "\n",
    "while cont1 <= numPrimo1:\n",
    "    cont = 1\n",
    "    div1 = 0\n",
    "    while cont <= cont1:\n",
    "        if cont1 % cont == 0:\n",
    "            div1 += 1\n",
    "        else:\n",
    "            pass\n",
    "        div2 += 1\n",
    "        cont += 1\n",
    "    if cont1 % cont1 == 0 and cont1 % 1 == 0 and div1 == 2:\n",
    "        #print('Numero primo!')\n",
    "        primos.append(cont1)\n",
    "    cont1 += 1\n",
    "    #divTotal = div1 + div2\n",
    "print('Numeros primos {} entre 1 e {}'.format(primos, numPrimo1))\n",
    "print('Numero de divisões {}'.format(div2))"
   ]
  },
  {
   "cell_type": "code",
   "execution_count": 54,
   "metadata": {},
   "outputs": [
    {
     "name": "stdin",
     "output_type": "stream",
     "text": [
      "Digite o numero de notas:  3\n",
      "Notas:  7\n",
      "Notas:  7\n",
      "Notas:  7\n"
     ]
    },
    {
     "name": "stdout",
     "output_type": "stream",
     "text": [
      "Media das notas: 7.0\n"
     ]
    }
   ],
   "source": [
    "\"\"\"Faça um programa que calcule o mostre a média aritmética de N notas\"\"\"\n",
    "\n",
    "nNotas = int( input('Digite o numero de notas: '))\n",
    "cont = 0\n",
    "soma = 0\n",
    "media = 0\n",
    "\n",
    "while cont < nNotas:\n",
    "    notass = float( input('Notas: '))\n",
    "    soma += notass\n",
    "    cont += 1\n",
    "media  = soma / nNotas\n",
    "\n",
    "print('Media das notas: {}'.format(media))"
   ]
  },
  {
   "cell_type": "code",
   "execution_count": 6,
   "metadata": {},
   "outputs": [
    {
     "name": "stdin",
     "output_type": "stream",
     "text": [
      "Digite o numero de pessoas:  2\n",
      "1ª Idade:  25\n",
      "2ª Idade:  20\n"
     ]
    },
    {
     "name": "stdout",
     "output_type": "stream",
     "text": [
      "A media de idade varia entre 0 e 25 anos!\n",
      "Turma jovem\n"
     ]
    }
   ],
   "source": [
    "\"\"\"Faça um programa que peça para n pessoas a sua idade, ao final o programa devera verificar se\n",
    "a média de idade da turma varia entre 0 e 25,26 e 60 e maior que 60; e então, dizer se a turma é \n",
    "jovem, adulta ou idosa, conforme a média calculada.\"\"\"\n",
    "\n",
    "nPessoas = int( input ('Digite o numero de pessoas: '))\n",
    "somaIdade = 0\n",
    "mediaIdade = 0\n",
    "cont = 1\n",
    "for i in range(nPessoas):\n",
    "    idadePessoa = int( input ('{}ª Idade: '.format(cont)))\n",
    "    somaIdade += idadePessoa\n",
    "    cont += 1\n",
    "\n",
    "mediaIdade = somaIdade / nPessoas    \n",
    "\n",
    "if mediaIdade >= 0 and mediaIdade <= 25:\n",
    "    print('A media de idade varia entre 0 e 25 anos!')\n",
    "    print('Turma jovem')\n",
    "elif mediaIdade >= 26 and mediaIdade <= 60:\n",
    "    print('A media de idade varia entre 26 e 60 anos!')\n",
    "    print('Turma adulta')\n",
    "else:\n",
    "    print('A media de idade esta acima de 60 anos!')\n",
    "    print('Turma idosa')"
   ]
  },
  {
   "cell_type": "code",
   "execution_count": 8,
   "metadata": {},
   "outputs": [
    {
     "name": "stdin",
     "output_type": "stream",
     "text": [
      "Numero de eleitores:  3\n",
      "Digite seu voto, 1, 2 ou 3:  1\n",
      "Digite seu voto, 1, 2 ou 3:  2\n",
      "Digite seu voto, 1, 2 ou 3:  3\n"
     ]
    },
    {
     "name": "stdout",
     "output_type": "stream",
     "text": [
      "Numero de votos do candidato 1: 1\n",
      "Numero de votos do candidato 2: 1\n",
      "Numero de votos do candidato 3: 1\n"
     ]
    }
   ],
   "source": [
    "\"\"\"Numa eleição existem três candidatos. Faça um programa que peça o número total de eleitores.\n",
    "Peça para cada eleitor votar e ao final mostrar o número de votos de cada candidato.\"\"\"\n",
    "\n",
    "c1 = 0\n",
    "c2 = 0\n",
    "c3 = 0\n",
    "\n",
    "eleitores = int (input ('Numero de eleitores: '))\n",
    "\n",
    "for i in range(eleitores):\n",
    "    voto = int (input ('Digite seu voto, 1, 2 ou 3: '))\n",
    "    \n",
    "    if voto == 1:\n",
    "        c1 += 1\n",
    "    elif voto == 2:\n",
    "        c2 += 1\n",
    "    elif voto == 3:\n",
    "        c3 += 1\n",
    "\n",
    "print('Numero de votos do candidato 1: {}'.format(c1))\n",
    "print('Numero de votos do candidato 2: {}'.format(c2))\n",
    "print('Numero de votos do candidato 3: {}'.format(c3))\n",
    "    "
   ]
  },
  {
   "cell_type": "code",
   "execution_count": 16,
   "metadata": {},
   "outputs": [
    {
     "name": "stdin",
     "output_type": "stream",
     "text": [
      "Digite a qtd de turmas:  3\n",
      "Digite a qtd de alunos por turma:  21\n",
      "Digite a qtd de alunos por turma:  21\n",
      "Digite a qtd de alunos por turma:  18\n"
     ]
    },
    {
     "name": "stdout",
     "output_type": "stream",
     "text": [
      "Medias por turma: 20.0\n"
     ]
    }
   ],
   "source": [
    "\"\"\"Faça um programa que calcule o número médio de alunos por turma. Para isto, peça a quantidade de\n",
    "turmas e a quantidade de alunos para cada turma. As turmas não podem ter mais de 40 alunos.\"\"\"\n",
    "\n",
    "turmas = int (input ('Digite a qtd de turmas: '))\n",
    "varAluno = True\n",
    "soma = 0\n",
    "mediaTurma = 0\n",
    "cont = 0\n",
    "\n",
    "while varAluno: \n",
    "    while cont < turmas:\n",
    "        alunosTur =  int (input ('Digite a qtd de alunos por turma: '))\n",
    "           \n",
    "        if alunosTur > 40 :\n",
    "            print('Qtd excede o limite!')\n",
    "            continue\n",
    "        else:\n",
    "            varAluno = False\n",
    "            soma += alunosTur\n",
    "        cont += 1\n",
    "\n",
    "mediaTurma = soma / turmas\n",
    "print('Medias por turma: {}'.format(mediaTurma))\n",
    "        "
   ]
  },
  {
   "cell_type": "code",
   "execution_count": 5,
   "metadata": {},
   "outputs": [
    {
     "name": "stdin",
     "output_type": "stream",
     "text": [
      "Digite a qtd de Cds da coleção:  3\n",
      "Digite o preço do 1 CD:  6\n",
      "Digite o preço do 2 CD:  8\n",
      "Digite o preço do 3 CD:  6\n"
     ]
    },
    {
     "name": "stdout",
     "output_type": "stream",
     "text": [
      "O valor médio de cada CD é 6.67\n"
     ]
    }
   ],
   "source": [
    "\"\"\"Faça um programa que calcule o valor total investido por um colecionador em sua coleção de CDs \n",
    "e o valor médio gasto em cada um deles. O usuário deverá informar a quantidade de CDs e o valor para\n",
    "em cada um.\"\"\"\n",
    "\n",
    "qtd_cds = int (input ('Digite a qtd de Cds da coleção: '))\n",
    "soma = 0\n",
    "val_medio = 0\n",
    "for i in range(qtd_cds):\n",
    "    preco_cds = float (input ('Digite o preço do {} CD: '.format(i+1)))\n",
    "    soma += preco_cds\n",
    "val_medio = float(soma / qtd_cds)\n",
    "\n",
    "print('O valor médio de cada CD é {:.2f}'.format(val_medio))"
   ]
  },
  {
   "cell_type": "code",
   "execution_count": 9,
   "metadata": {},
   "outputs": [
    {
     "name": "stdout",
     "output_type": "stream",
     "text": [
      "1 - R$ 1.99 2 - R$ 3.98 3 - R$ 5.97 4 - R$ 7.96 5 - R$ 9.95 6 - R$ 11.94 7 - R$ 13.93 8 - R$ 15.92 9 - R$ 17.91 10 - R$ 19.9 11 - R$ 21.89 12 - R$ 23.88 13 - R$ 25.87 14 - R$ 27.86 15 - R$ 29.85 16 - R$ 31.84 17 - R$ 33.83 18 - R$ 35.82 19 - R$ 37.81 20 - R$ 39.8 21 - R$ 41.79 22 - R$ 43.78 23 - R$ 45.77 24 - R$ 47.76 25 - R$ 49.75 26 - R$ 51.74 27 - R$ 53.73 28 - R$ 55.72 29 - R$ 57.71 30 - R$ 59.7 31 - R$ 61.69 32 - R$ 63.68 33 - R$ 65.67 34 - R$ 67.66 35 - R$ 69.65 36 - R$ 71.64 37 - R$ 73.63 38 - R$ 75.62 39 - R$ 77.61 40 - R$ 79.6 41 - R$ 81.59 42 - R$ 83.58 43 - R$ 85.57 44 - R$ 87.56 45 - R$ 89.55 46 - R$ 91.54 47 - R$ 93.53 48 - R$ 95.52 49 - R$ 97.51 50 - R$ 99.5 "
     ]
    }
   ],
   "source": [
    "\"\"\"O Sr. Manoel Joaquim possui uma grande loja de artigos de R$ 1,99, com cerca de 10 caixas. \n",
    "Para agilizar o cálculo de quanto cada cliente deve pagar ele desenvolveu um tabela que contém\n",
    "o número de itens que o cliente comprou e ao lado o valor da conta. Desta forma a atendente do \n",
    "caixa precisa apenas contar quantos itens o cliente está levando e olhar na tabela de preços. \n",
    "Você foi contratado para desenvolver o programa que monta esta tabela de preços, que conterá os \n",
    "preços de 1 até 50 produtos, conforme o exemplo abaixo:\n",
    "\n",
    "Lojas Quase Dois - Tabela de preços\n",
    "1 - R$ 1.99\n",
    "2 - R$ 3.98\n",
    "...\n",
    "50 - R$ 99.50\n",
    "\"\"\"\n",
    "#qtd_produtos = int (input ('Qtd de produtos: ') )\n",
    "#somaProd = 0\n",
    "val_prod = 1.99\n",
    "mult = 0\n",
    "\n",
    "for i in range(50):\n",
    "    mult = float((i+1) * 1.99)\n",
    "    print('{} - R$ {}'.format(i+1, mult), end = ' ')\n",
    "    "
   ]
  },
  {
   "cell_type": "code",
   "execution_count": 11,
   "metadata": {},
   "outputs": [
    {
     "name": "stdin",
     "output_type": "stream",
     "text": [
      "Informe o preço do pão:  0.60\n"
     ]
    },
    {
     "name": "stdout",
     "output_type": "stream",
     "text": [
      "1 - R$ 0.60\n",
      "2 - R$ 1.20\n",
      "3 - R$ 1.80\n",
      "4 - R$ 2.40\n",
      "5 - R$ 3.00\n",
      "6 - R$ 3.60\n",
      "7 - R$ 4.20\n",
      "8 - R$ 4.80\n",
      "9 - R$ 5.40\n",
      "10 - R$ 6.00\n",
      "11 - R$ 6.60\n",
      "12 - R$ 7.20\n",
      "13 - R$ 7.80\n",
      "14 - R$ 8.40\n",
      "15 - R$ 9.00\n",
      "16 - R$ 9.60\n",
      "17 - R$ 10.20\n",
      "18 - R$ 10.80\n",
      "19 - R$ 11.40\n",
      "20 - R$ 12.00\n",
      "21 - R$ 12.60\n",
      "22 - R$ 13.20\n",
      "23 - R$ 13.80\n",
      "24 - R$ 14.40\n",
      "25 - R$ 15.00\n",
      "26 - R$ 15.60\n",
      "27 - R$ 16.20\n",
      "28 - R$ 16.80\n",
      "29 - R$ 17.40\n",
      "30 - R$ 18.00\n",
      "31 - R$ 18.60\n",
      "32 - R$ 19.20\n",
      "33 - R$ 19.80\n",
      "34 - R$ 20.40\n",
      "35 - R$ 21.00\n",
      "36 - R$ 21.60\n",
      "37 - R$ 22.20\n",
      "38 - R$ 22.80\n",
      "39 - R$ 23.40\n",
      "40 - R$ 24.00\n",
      "41 - R$ 24.60\n",
      "42 - R$ 25.20\n",
      "43 - R$ 25.80\n",
      "44 - R$ 26.40\n",
      "45 - R$ 27.00\n",
      "46 - R$ 27.60\n",
      "47 - R$ 28.20\n",
      "48 - R$ 28.80\n",
      "49 - R$ 29.40\n",
      "50 - R$ 30.00\n"
     ]
    }
   ],
   "source": [
    "\"\"\"O Sr. Manoel Joaquim acaba de adquirir uma panificadora e pretende implantar a metodologia da \n",
    "tabelinha, que já é um sucesso na sua loja de 1,99. Você foi contratado para desenvolver o programa\n",
    "que monta a tabela de preços de pães, de 1 até 50 pães, a partir do preço do pão informado pelo usuário,\n",
    "conforme o exemplo abaixo:\n",
    "\n",
    "Preço do pão: R$ 0.18\n",
    "Panificadora Pão de Ontem - Tabela de preços\n",
    "1 - R$ 0.18\n",
    "2 - R$ 0.36\n",
    "...\n",
    "50 - R$ 9.00\n",
    "\"\"\"\n",
    "preco_pao = float (input ('Informe o preço do pão: ') )\n",
    "#somaProd = 0\n",
    "mult = 0\n",
    "\n",
    "for i in range(50):\n",
    "    mult = float((i+1) * preco_pao)\n",
    "    print('{} - R$ {:.2f}'.format(i+1, mult))\n"
   ]
  },
  {
   "cell_type": "code",
   "execution_count": null,
   "metadata": {},
   "outputs": [
    {
     "name": "stdin",
     "output_type": "stream",
     "text": [
      "Digite o preço do 1 produto:  3.45\n",
      "Digite o preço do 2 produto:  2.21\n",
      "Digite o preço do 3 produto:  3.78\n",
      "Digite o preço do 4 produto:  0\n"
     ]
    },
    {
     "name": "stdout",
     "output_type": "stream",
     "text": [
      "Total: R$ 9.44\n"
     ]
    }
   ],
   "source": [
    "\"\"\"O Sr. Manoel Joaquim expandiu seus negócios para além dos negócios de 1,99 e agora possui uma loja\n",
    "de conveniências. Faça um programa que implemente uma caixa registradora rudimentar. O programa deverá\n",
    "receber um número desconhecido de valores referentes aos preços das mercadorias. Um valor zero deve ser\n",
    "informado pelo operador para indicar o final da compra. O programa deve então mostrar o total da compra\n",
    "e perguntar o valor em dinheiro que o cliente forneceu, para então calcular e mostrar o valor do troco.\n",
    "Após esta operação, o programa deverá voltar ao ponto inicial, para registrar a próxima compra. A saída \n",
    "deve ser conforme o exemplo abaixo:\n",
    "\n",
    "Lojas Tabajara \n",
    "Produto 1: R$ 2.20\n",
    "Produto 2: R$ 5.80\n",
    "Produto 3: R$ 0\n",
    "Total: R$ 9.00\n",
    "Dinheiro: R$ 20.00\n",
    "Troco: R$ 11.00\n",
    "...\"\"\"\n",
    "produto = -1\n",
    "cont = 1\n",
    "soma = 0\n",
    "total = 0\n",
    "listaProd = []\n",
    "\n",
    "while produto != 0:\n",
    "    produto = float( input('Digite o preço do {} produto: '.format(cont)))\n",
    "    if produto == 0 :\n",
    "        break\n",
    "    listaProd.append(produto)\n",
    "    total += listaProd[cont-1]\n",
    "    cont += 1\n",
    "print('Total: R$ {}'.format(total))\n",
    "dinheiro = float(input('Dinheiro: '))\n",
    "print('\\n')\n",
    "print('Lojas Tabajara ')\n",
    "for i in range(len(listaProd)):    \n",
    "    print('produto {}: R$ {}'.format(i, listaProd[i]))\n",
    "print('Total: R$ {}'.format(total))\n",
    "print('Dinheiro: R$ {}'.format(dinheiro))\n",
    "print('Troco: R$ {}'.format(dinheiro - total))"
   ]
  },
  {
   "cell_type": "code",
   "execution_count": 19,
   "metadata": {},
   "outputs": [
    {
     "name": "stdin",
     "output_type": "stream",
     "text": [
      "Digite um número:  5\n"
     ]
    },
    {
     "name": "stdout",
     "output_type": "stream",
     "text": [
      "Fatorial de: 5\n",
      "5.4.3.2.1 = 120\n"
     ]
    }
   ],
   "source": [
    "\"\"\"Faça um programa que calcule o fatorial de um número inteiro fornecido pelo usuário. \n",
    "Ex.: 5!=5.4.3.2.1=120. A saída deve ser conforme o exemplo abaixo:\n",
    "\n",
    "Fatorial de: 5\n",
    "5! =  5 . 4 . 3 . 2 . 1 = 120\"\"\"\n",
    "\n",
    "fat = int( input('Digite um número: '))\n",
    "result = 1\n",
    "x = fat\n",
    "\n",
    "print('Fatorial de: {}'.format(fat))\n",
    "\n",
    "for i in range(fat):\n",
    "    if fat <= 1:\n",
    "        result = 1\n",
    "        print('{}! = {}'.format(fat, result))\n",
    "    else:\n",
    "        result *= fat - i\n",
    "        while x != 1:\n",
    "            print(x, end = '.')\n",
    "            x -= 1\n",
    "print('1 = {}'.format(result))\n",
    "\n",
    "# (Fatorial) f=lambda x :x if x<=2 else x*f(x-1)"
   ]
  },
  {
   "cell_type": "code",
   "execution_count": 33,
   "metadata": {},
   "outputs": [
    {
     "name": "stdin",
     "output_type": "stream",
     "text": [
      "\n",
      "Digite o numero que quer realizar a fatorial :  5\n"
     ]
    },
    {
     "name": "stdout",
     "output_type": "stream",
     "text": [
      "5 * 4 * 3 * 2 * 1 =  120\n"
     ]
    }
   ],
   "source": [
    "import math\n",
    "numero = int(input(\"\\nDigite o numero que quer realizar a fatorial : \"))\n",
    "count = numero\n",
    "fatorial = math.factorial(numero)\n",
    "\n",
    "for i in range(numero - 1):\n",
    "    print(count, end=\" * \")\n",
    "    count -= 1\n",
    "print(\"1 = \", fatorial)"
   ]
  },
  {
   "cell_type": "code",
   "execution_count": 4,
   "metadata": {},
   "outputs": [
    {
     "name": "stdin",
     "output_type": "stream",
     "text": [
      "Temperatura:  23.4\n",
      "Temperatura:  29.5\n",
      "Temperatura:  21.5\n",
      "Temperatura:  18.2\n",
      "Temperatura:  0\n"
     ]
    },
    {
     "name": "stdout",
     "output_type": "stream",
     "text": [
      "Maior temperatura 29.5\n",
      "Menor temperatura 18.2\n",
      "Média de temperatura 23.2\n"
     ]
    }
   ],
   "source": [
    "\"\"\"O Departamento Estadual de Meteorologia lhe contratou para desenvolver um programa que leia as um\n",
    "conjunto indeterminado de temperaturas, e informe ao final a menor e a maior temperaturas informadas, \n",
    "bem como a média das temperaturas.\"\"\"\n",
    "\n",
    "temperatura = -1\n",
    "maiorTemp = 0.0\n",
    "menorTemp = 50.0\n",
    "soma = 0\n",
    "cont = 0\n",
    "media = 0\n",
    "while temperatura != 0:\n",
    "    temperatura = float(input('Temperatura: '))\n",
    "    if temperatura == 0:\n",
    "        break\n",
    "    else:\n",
    "        if temperatura > maiorTemp:\n",
    "            maiorTemp = temperatura\n",
    "        elif temperatura < menorTemp:\n",
    "            menorTemp = temperatura\n",
    "        soma += temperatura\n",
    "        cont += 1\n",
    "media = soma / cont \n",
    "print('Maior temperatura {}'.format(maiorTemp))\n",
    "print('Menor temperatura {}'.format(menorTemp))\n",
    "print('Média de temperatura {:.1f}'.format(media))\n",
    "    "
   ]
  },
  {
   "cell_type": "code",
   "execution_count": 12,
   "metadata": {},
   "outputs": [
    {
     "name": "stdin",
     "output_type": "stream",
     "text": [
      "Digite um numero inteiro:  20\n"
     ]
    },
    {
     "name": "stdout",
     "output_type": "stream",
     "text": [
      "1 --> 1\n",
      "2 --> 2\n",
      "3 --> 4\n",
      "4 --> 5\n",
      "5 --> 10\n",
      "6 --> 20\n",
      "20 não é um número primo!\n"
     ]
    }
   ],
   "source": [
    "\"\"\"Os números primos possuem várias aplicações dentro da Computação, por exemplo na Criptografia. \n",
    "Um número primo é aquele que é divisível apenas por um e por ele mesmo. Faça um programa que peça\n",
    "um número inteiro e determine se ele é ou não um número primo.\"\"\"\n",
    "\n",
    "numInteiro = int(input('Digite um numero inteiro: '))\n",
    "contDiv = 0\n",
    "cont = 1\n",
    "\n",
    "while cont <= numInteiro:\n",
    "    if numInteiro % cont == 0:\n",
    "        contDiv += 1\n",
    "        print(contDiv, '-->' ,cont)\n",
    "    cont +=1\n",
    "if numInteiro % numInteiro == 0 and numInteiro % 1 == 0 and contDiv == 2:\n",
    "    print('{} é um número primo!'.format(numInteiro))\n",
    "else:\n",
    "    print('{} não é um número primo!'.format(numInteiro))"
   ]
  },
  {
   "cell_type": "code",
   "execution_count": 37,
   "metadata": {},
   "outputs": [
    {
     "name": "stdin",
     "output_type": "stream",
     "text": [
      "Digite um numero inteiro:  20\n"
     ]
    },
    {
     "name": "stdout",
     "output_type": "stream",
     "text": [
      "Lista de numeros primos entre 1 e 20: [2, 3, 5, 7, 11, 13, 17, 19]\n"
     ]
    }
   ],
   "source": [
    "\"\"\"Encontrar números primos é uma tarefa difícil. Faça um programa que gera uma lista dos números\n",
    "primos existentes entre 1 e um número inteiro informado pelo usuário.\"\"\"\n",
    "\n",
    "numInteiro = int(input('Digite um numero inteiro: '))\n",
    "cont1 = 1\n",
    "listaprimos = []\n",
    "\n",
    "while cont1 <= numInteiro:\n",
    "    cont = 1 \n",
    "    div1 = 0\n",
    "    while cont <= cont1:\n",
    "        if cont1 % cont == 0:\n",
    "            div1 += 1\n",
    "        cont += 1\n",
    "    #print('cont1', cont1)\n",
    "    #print('div1', div1)\n",
    "    if cont1 % cont1 == 0 and cont1 % 1 == 0 and div1 == 2:\n",
    "            listaprimos.append(cont1) \n",
    "    cont1 += 1\n",
    "print('Lista de numeros primos entre 1 e {}: {}'.format(numInteiro, listaprimos))\n"
   ]
  },
  {
   "cell_type": "code",
   "execution_count": 15,
   "metadata": {},
   "outputs": [
    {
     "name": "stdin",
     "output_type": "stream",
     "text": [
      "Digite um número:  5\n",
      "Digite o valor inicial:  7\n",
      "Digite o valor final:  4\n"
     ]
    },
    {
     "name": "stdout",
     "output_type": "stream",
     "text": [
      "O valor inicial deve ser menor que o final!\n"
     ]
    },
    {
     "name": "stdin",
     "output_type": "stream",
     "text": [
      "Digite o valor inicial:  8\n",
      "Digite o valor final:  5\n"
     ]
    },
    {
     "name": "stdout",
     "output_type": "stream",
     "text": [
      "O valor inicial deve ser menor que o final!\n"
     ]
    },
    {
     "name": "stdin",
     "output_type": "stream",
     "text": [
      "Digite o valor inicial:  4\n",
      "Digite o valor final:  7\n"
     ]
    },
    {
     "name": "stdout",
     "output_type": "stream",
     "text": [
      " \n",
      "Montar a tabuada de: 5\n",
      "5 X 4 = 20\n",
      "5 X 5 = 25\n",
      "5 X 6 = 30\n",
      "5 X 7 = 35\n"
     ]
    }
   ],
   "source": [
    "\"\"\"Desenvolva um programa que faça a tabuada de um número qualquer inteiro que será digitado pelo \n",
    "   usuário, mas a tabuada não deve necessariamente iniciar em 1 e terminar em 10, o valor inicial e \n",
    "   final devem ser informados também pelo usuário, conforme exemplo abaixo:\n",
    "   \n",
    "   Montar a tabuada de: 5\n",
    "   Começar por: 4\n",
    "   Terminar em: 7\n",
    "\n",
    "Vou montar a tabuada de 5 começando em 4 e terminando em 7:\n",
    "5 X 4 = 20\n",
    "5 X 5 = 25\n",
    "5 X 6 = 30\n",
    "5 X 7 = 35\n",
    "Obs: Você deve verificar se o usuário não digitou o final menor que o inicial. \"\"\"\n",
    "\n",
    "cont = valInicial\n",
    "varBool = True\n",
    "numInt = int( input(\"Digite um número: \"))\n",
    "\n",
    "#\n",
    "   \n",
    "while varBool:\n",
    "    valInicial = int( input(\"Digite o valor inicial: \"))\n",
    "    valFinal = int( input(\"Digite o valor final: \"))\n",
    "    if valInicial < valFinal:\n",
    "        print(' ')\n",
    "        print('Montar a tabuada de: {}'.format(numInt))\n",
    "        while cont <= valFinal:\n",
    "            mult = numInt * cont\n",
    "            print('{} X {} = {}'.format(numInt, cont, mult))\n",
    "            cont +=1\n",
    "        varBool = False\n",
    "    else:\n",
    "        print('O valor inicial deve ser menor que o final!')\n",
    "        continue"
   ]
  },
  {
   "cell_type": "code",
   "execution_count": null,
   "metadata": {},
   "outputs": [],
   "source": []
  }
 ],
 "metadata": {
  "kernelspec": {
   "display_name": "Python 3",
   "language": "python",
   "name": "python3"
  },
  "language_info": {
   "codemirror_mode": {
    "name": "ipython",
    "version": 3
   },
   "file_extension": ".py",
   "mimetype": "text/x-python",
   "name": "python",
   "nbconvert_exporter": "python",
   "pygments_lexer": "ipython3",
   "version": "3.7.1"
  }
 },
 "nbformat": 4,
 "nbformat_minor": 4
}
