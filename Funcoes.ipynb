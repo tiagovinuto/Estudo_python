{
 "cells": [
  {
   "cell_type": "code",
   "execution_count": 24,
   "metadata": {},
   "outputs": [],
   "source": [
    "\"\"\"Faça um programa para imprimir:\n",
    "    1\n",
    "    2   2\n",
    "    3   3   3\n",
    "    .....\n",
    "    n   n   n   n   n   n  ... n\n",
    "para um n informado pelo usuário. Use uma função que receba um valor n inteiro e imprima até a \n",
    "n-ésima linha.\"\"\"\n",
    "\n",
    "def funRepetido(n):\n",
    "    for i in range(n):\n",
    "        cont = 0\n",
    "        while cont < i+1:\n",
    "            print(i+1, end = ' ')\n",
    "            cont += 1\n",
    "        print('')"
   ]
  },
  {
   "cell_type": "code",
   "execution_count": 25,
   "metadata": {},
   "outputs": [
    {
     "name": "stdout",
     "output_type": "stream",
     "text": [
      "1 \n",
      "2 2 \n",
      "3 3 3 \n",
      "4 4 4 4 \n",
      "5 5 5 5 5 \n"
     ]
    }
   ],
   "source": [
    "funRepetido(5)"
   ]
  },
  {
   "cell_type": "code",
   "execution_count": 19,
   "metadata": {},
   "outputs": [],
   "source": [
    "\"\"\"Faça um programa para imprimir:\n",
    "    1\n",
    "    1   2\n",
    "    1   2   3\n",
    "    .....\n",
    "    1   2   3   ...  n\n",
    "para um n informado pelo usuário. Use uma função que receba um valor n inteiro imprima até a\n",
    "n-ésima linha.\"\"\"\n",
    "\n",
    "def incremento(n):\n",
    "    #lista = []\n",
    "    for i in range(n):\n",
    "        cont = 1\n",
    "        while cont <= i+1:\n",
    "            print(cont, end = ' ')\n",
    "            cont += 1\n",
    "        print('')"
   ]
  },
  {
   "cell_type": "code",
   "execution_count": 20,
   "metadata": {},
   "outputs": [
    {
     "name": "stdout",
     "output_type": "stream",
     "text": [
      "1 \n",
      "1 2 \n",
      "1 2 3 \n",
      "1 2 3 4 \n",
      "1 2 3 4 5 \n"
     ]
    }
   ],
   "source": [
    "incremento(5)"
   ]
  },
  {
   "cell_type": "code",
   "execution_count": 23,
   "metadata": {},
   "outputs": [],
   "source": [
    "\"\"\"Faça um programa, com uma função que necessite de três argumentos, e que forneça a soma\n",
    "desses três argumentos.\"\"\"\n",
    "\n",
    "def somaArg(a1, a2, a3):\n",
    "    #soma = a1+ a2+ a3\n",
    "    return a1+ a2+ a3 # ou soma"
   ]
  },
  {
   "cell_type": "code",
   "execution_count": 24,
   "metadata": {},
   "outputs": [
    {
     "data": {
      "text/plain": [
       "14"
      ]
     },
     "execution_count": 24,
     "metadata": {},
     "output_type": "execute_result"
    }
   ],
   "source": [
    "somaArg(2, 5, 7)"
   ]
  },
  {
   "cell_type": "code",
   "execution_count": 32,
   "metadata": {},
   "outputs": [],
   "source": [
    "\"\"\"Faça um programa, com uma função que necessite de um argumento. A função retorna o valor de \n",
    "caractere ‘P’, se seu argumento for positivo, e ‘N’, se seu argumento for zero ou negativo.\"\"\"\n",
    "\n",
    "def func1 (n):\n",
    "    if n >= 1:\n",
    "        print('P')\n",
    "    else:\n",
    "        print('N')"
   ]
  },
  {
   "cell_type": "code",
   "execution_count": 33,
   "metadata": {},
   "outputs": [
    {
     "name": "stdout",
     "output_type": "stream",
     "text": [
      "N\n"
     ]
    }
   ],
   "source": [
    "func1(0)"
   ]
  },
  {
   "cell_type": "code",
   "execution_count": 3,
   "metadata": {},
   "outputs": [],
   "source": [
    "\"\"\"Faça um programa com uma função chamada somaImposto. A função possui dois parâmetros formais: \n",
    "taxaImposto, que é a quantia de imposto sobre vendas expressa em porcentagem e custo, que é o custo\n",
    "de um item antes do imposto. A função “altera” o valor de custo para incluir o imposto sobre vendas\"\"\"\n",
    "\n",
    "def somaImposto(taxaImposto, custo):\n",
    "    cobraImposto = custo + (custo * taxaImposto /100)\n",
    "    return cobraImposto"
   ]
  },
  {
   "cell_type": "code",
   "execution_count": 4,
   "metadata": {},
   "outputs": [
    {
     "data": {
      "text/plain": [
       "49.5"
      ]
     },
     "execution_count": 4,
     "metadata": {},
     "output_type": "execute_result"
    }
   ],
   "source": [
    "somaImposto(10, 45.00)"
   ]
  },
  {
   "cell_type": "code",
   "execution_count": null,
   "metadata": {},
   "outputs": [],
   "source": []
  }
 ],
 "metadata": {
  "kernelspec": {
   "display_name": "Python 3",
   "language": "python",
   "name": "python3"
  },
  "language_info": {
   "codemirror_mode": {
    "name": "ipython",
    "version": 3
   },
   "file_extension": ".py",
   "mimetype": "text/x-python",
   "name": "python",
   "nbconvert_exporter": "python",
   "pygments_lexer": "ipython3",
   "version": "3.7.1"
  }
 },
 "nbformat": 4,
 "nbformat_minor": 2
}
