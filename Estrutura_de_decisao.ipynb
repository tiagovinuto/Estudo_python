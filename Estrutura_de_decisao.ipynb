{
 "cells": [
  {
   "cell_type": "code",
   "execution_count": 1,
   "metadata": {},
   "outputs": [
    {
     "name": "stdin",
     "output_type": "stream",
     "text": [
      "Você gostaria de jogar o dado? s\n"
     ]
    },
    {
     "name": "stdout",
     "output_type": "stream",
     "text": [
      "4\n"
     ]
    },
    {
     "name": "stdin",
     "output_type": "stream",
     "text": [
      "Deseja jogar novamente? n\n"
     ]
    },
    {
     "name": "stdout",
     "output_type": "stream",
     "text": [
      "Você parou de jogar\n"
     ]
    },
    {
     "name": "stdin",
     "output_type": "stream",
     "text": [
      "Você gostaria de jogar o dado? n\n"
     ]
    },
    {
     "name": "stdout",
     "output_type": "stream",
     "text": [
      "Você parou de jogar\n"
     ]
    }
   ],
   "source": [
    "from random import randint\n",
    "import random\n",
    "\n",
    "\n",
    "var1 = True\n",
    "\n",
    "while var1:\n",
    "    p1 = input('Você gostaria de jogar o dado?')\n",
    "    if p1 == 's':\n",
    "        nun_sortedo = random.randint(1,6)\n",
    "        print(nun_sortedo)\n",
    "\n",
    "        var2 = True   \n",
    "\n",
    "        while var2:\n",
    "            p2 = input('Deseja jogar novamente?')\n",
    "            if p2 == 's':\n",
    "                nun_sortedo = random.randint(1,6)\n",
    "                print(nun_sortedo)\n",
    "            elif p2 == 'n':\n",
    "                print(\"Você parou de jogar\")\n",
    "                var2 = False\n",
    "            else:\n",
    "                print(\"O VALOR DIGITADO É INEXISTENTE!\")\n",
    "    elif p1 == 'n':\n",
    "        print(\"Você parou de jogar\")\n",
    "        var1 = False\n",
    "    else :\n",
    "        print(\"O VALOR DIGITADO É INEXISTENTE!\")"
   ]
  },
  {
   "cell_type": "code",
   "execution_count": 34,
   "metadata": {},
   "outputs": [
    {
     "name": "stdin",
     "output_type": "stream",
     "text": [
      "Chute um número:  s\n"
     ]
    },
    {
     "name": "stdout",
     "output_type": "stream",
     "text": [
      "Seu chute deve ser um número!\n"
     ]
    },
    {
     "name": "stdin",
     "output_type": "stream",
     "text": [
      "Chute um número:  11\n"
     ]
    },
    {
     "name": "stdout",
     "output_type": "stream",
     "text": [
      "Seu chute foi 11\n",
      "Números digitados [11]\n",
      "Seu chute foi abaixo do valor sorteado!\n"
     ]
    },
    {
     "name": "stdin",
     "output_type": "stream",
     "text": [
      "Deseja continuar chutando? s\n",
      "Chute um número:  9\n"
     ]
    },
    {
     "name": "stdout",
     "output_type": "stream",
     "text": [
      "Seu chute foi 9\n",
      "Números digitados [11, 9]\n",
      "Seu chute foi abaixo do valor sorteado!\n"
     ]
    },
    {
     "name": "stdin",
     "output_type": "stream",
     "text": [
      "Deseja continuar chutando? n\n"
     ]
    }
   ],
   "source": [
    "from random import randint\n",
    "import random\n",
    "\n",
    "val_sort =  nun_sortedo = random.randint(1,30)\n",
    "lista = []\n",
    "varX1 = True\n",
    "\n",
    "while varX1:\n",
    "    try:\n",
    "        val_chute = int(input('Chute um número: '))\n",
    "        print('Seu chute foi {}'.format(val_chute))\n",
    "        \n",
    "        lista.append(val_chute)\n",
    "        print('Números digitados {}'.format(lista))\n",
    "        \n",
    "        if val_chute < val_sort:\n",
    "            print('Seu chute foi abaixo do valor sorteado!')\n",
    "        elif val_chute > val_sort:\n",
    "            print('Seu chute foi acima do valor sorteado!')\n",
    "        else:\n",
    "            print('Parabéns você acertou!')\n",
    "            varX1 = False\n",
    "        \n",
    "        varX2 = input('Deseja continuar chutando?')\n",
    "        if varX2 == 's':\n",
    "            continue\n",
    "        else:\n",
    "            varX1 = False\n",
    "            \n",
    "    except ValueError:\n",
    "        print('Seu chute deve ser um número!')\n",
    "        \n",
    "# Criar uma lista para guardar os valores digitados"
   ]
  },
  {
   "cell_type": "code",
   "execution_count": 17,
   "metadata": {},
   "outputs": [
    {
     "name": "stdin",
     "output_type": "stream",
     "text": [
      "Digite o primeiro número: g\n"
     ]
    },
    {
     "name": "stdout",
     "output_type": "stream",
     "text": [
      "O valor digitado deve ser um número\n",
      "O primeiro número digitado é o maior!\n"
     ]
    }
   ],
   "source": [
    "\"\"\"Faça um Programa que peça dois números e imprima o maior deles.\"\"\"\n",
    "var1 = True\n",
    "\n",
    "while var1:\n",
    "    try:\n",
    "        num1 = int(input('Digite o primeiro número:'))\n",
    "        num2 = int(input('Digite o segundo número: '))\n",
    "\n",
    "        if num1 > num2:\n",
    "            print('O primeiro número digitado é o maior!')\n",
    "            var1 = False\n",
    "        elif num1 < num2: \n",
    "            print('O segundo número digitado é o maior!')\n",
    "            var1 = False\n",
    "        else:\n",
    "            print('Os números digitados são iguais!')\n",
    "            var1 = False\n",
    "    except ValueError:\n",
    "        print('O valor digitado deve ser um número')\n",
    "        #var1 = False"
   ]
  },
  {
   "cell_type": "code",
   "execution_count": 26,
   "metadata": {},
   "outputs": [
    {
     "name": "stdin",
     "output_type": "stream",
     "text": [
      "Digite um número: 5\n"
     ]
    },
    {
     "name": "stdout",
     "output_type": "stream",
     "text": [
      "positivo\n"
     ]
    },
    {
     "name": "stdin",
     "output_type": "stream",
     "text": [
      "Deseja digitar outro número s\n",
      "Digite um número: -5\n"
     ]
    },
    {
     "name": "stdout",
     "output_type": "stream",
     "text": [
      "negativo\n"
     ]
    },
    {
     "name": "stdin",
     "output_type": "stream",
     "text": [
      "Deseja digitar outro número n\n"
     ]
    }
   ],
   "source": [
    "\"\"\"Faça um Programa que peça um valor e mostre na tela se o valor é positivo ou negativo.\"\"\"\n",
    "\n",
    "var1 = True\n",
    "\n",
    "while var1:\n",
    "    try:\n",
    "        num1 = int(input('Digite um número:'))\n",
    "        if num1 < 0:\n",
    "            print('negativo')\n",
    "        else:\n",
    "            print('positivo')\n",
    "        var2 = input('Deseja digitar outro número')\n",
    "        if (var2 == 's'):\n",
    "            continue\n",
    "        else:\n",
    "            var1 = False\n",
    "    except ValueError:\n",
    "        print('O valor digitado deve ser um número')"
   ]
  },
  {
   "cell_type": "markdown",
   "metadata": {},
   "source": [
    "var1 = True\n",
    "\n",
    "while var1:\n",
    "    try:\n",
    "        num1 = int(input('Digite um número:'))\n",
    "        if num1 < 0:"
   ]
  },
  {
   "cell_type": "code",
   "execution_count": 33,
   "metadata": {},
   "outputs": [
    {
     "name": "stdin",
     "output_type": "stream",
     "text": [
      "Digite a primeira letra do seu sexo: x\n"
     ]
    },
    {
     "name": "stdout",
     "output_type": "stream",
     "text": [
      "Sexo indefinido\n"
     ]
    },
    {
     "name": "stdin",
     "output_type": "stream",
     "text": [
      "Deseja digitar novamente?  n\n"
     ]
    }
   ],
   "source": [
    "\"\"\"Faça um Programa que verifique se uma letra digitada é \"F\" ou \"M\". Conforme a letra escrever: \n",
    "F - Feminino, M - Masculino, Sexo Inválido.\"\"\"\n",
    "\n",
    "var1 = True\n",
    "\n",
    "while var1:\n",
    "        num1 = input('Digite a primeira letra do seu sexo:')\n",
    "        if num1 == 'M':\n",
    "            print('Masculino')\n",
    "        elif num1 == 'F':\n",
    "            print('Feminino')\n",
    "        else:\n",
    "            print('Sexo indefinido')\n",
    "        \n",
    "        var2 = input('Deseja digitar novamente? ')\n",
    "        if (var2 == 's'):\n",
    "            continue\n",
    "        else:\n",
    "            var1 = False"
   ]
  },
  {
   "cell_type": "code",
   "execution_count": 42,
   "metadata": {},
   "outputs": [
    {
     "name": "stdin",
     "output_type": "stream",
     "text": [
      "Digite uma letra:  f\n"
     ]
    },
    {
     "name": "stdout",
     "output_type": "stream",
     "text": [
      "Essa letra é uma consoante\n"
     ]
    },
    {
     "name": "stdin",
     "output_type": "stream",
     "text": [
      "Deseja digitar novamente?  n\n"
     ]
    }
   ],
   "source": [
    "\"\"\"Faça um Programa que verifique se uma letra digitada é vogal ou consoante.\"\"\"\n",
    "\n",
    "consoantes = ['b', 'c', 'd', 'f', 'g', 'h', 'j', 'k', 'l', 'm', \n",
    "              'n', 'p', 'q', 'r', 's', 't', 'v', 'w', 'x', 'z']\n",
    "\n",
    "vogais = ['a', 'e', 'i', 'o', 'u']\n",
    "\n",
    "var1 = True\n",
    "\n",
    "while var1:\n",
    "        num1 = input('Digite uma letra: ')\n",
    "        \n",
    "        for l in consoantes:\n",
    "            if num1 == l:\n",
    "                print('Essa letra é uma consoante')\n",
    "        for v in vogais:\n",
    "            if num1 == v:\n",
    "                print(\"Essa letra é uma vogal\")\n",
    "        \n",
    "        var2 = input('Deseja digitar novamente? ')\n",
    "        if (var2 == 's'):\n",
    "            continue\n",
    "        else:\n",
    "            var1 = False"
   ]
  },
  {
   "cell_type": "code",
   "execution_count": 53,
   "metadata": {},
   "outputs": [
    {
     "name": "stdin",
     "output_type": "stream",
     "text": [
      "Nota 1 7.6\n",
      "Nota 2 5.7\n"
     ]
    },
    {
     "name": "stdout",
     "output_type": "stream",
     "text": [
      "Aluno reporvado com média 6.65\n"
     ]
    }
   ],
   "source": [
    "\"\"\"Faça um programa para a leitura de duas notas parciais de um aluno. O programa deve calcular\n",
    "a média alcançada por aluno e apresentar:\n",
    "A mensagem \"Aprovado\", se a média alcançada for maior ou igual a sete;\n",
    "A mensagem \"Reprovado\", se a média for menor do que sete;\n",
    "A mensagem \"Aprovado com Distinção\", se a média for igual a dez.\"\"\"\n",
    "\n",
    "\n",
    "try:\n",
    "    nota1 = float(input('Nota 1'))\n",
    "    nota2 = float(input('Nota 2'))\n",
    "    media = (nota1 + nota2)/2 \n",
    "    \n",
    "    if media < 7.0:\n",
    "        print('Aluno reporvado com média {:.2f}'.format(media))\n",
    "    elif media > 7.0 and media < 9.9: \n",
    "        print('Aluno Aprovado com média {:.2f}'.format(media))\n",
    "    else:\n",
    "        print('Aluno aprovado com distinção, sua média foi {:.2f}'.format(media))\n",
    "        \n",
    "except ValueError:\n",
    "    print('Nota Inválida!!!')"
   ]
  },
  {
   "cell_type": "code",
   "execution_count": 56,
   "metadata": {},
   "outputs": [
    {
     "name": "stdin",
     "output_type": "stream",
     "text": [
      "Numero 1:  2\n",
      "Numero 2:  5\n",
      "Numero 3:  9\n"
     ]
    },
    {
     "name": "stdout",
     "output_type": "stream",
     "text": [
      "N3 é o maior valor entre os três\n"
     ]
    }
   ],
   "source": [
    "\"\"\"Faça um Programa que leia três números e mostre o maior deles.\"\"\"\n",
    "\n",
    "try:\n",
    "    n1 = int(input('Numero 1: '))\n",
    "    n2 = int(input('Numero 2: '))\n",
    "    n3 = int(input('Numero 3: '))\n",
    "    \n",
    "    if n1 > n2 and n1 > n3:\n",
    "        print('N1 é o maior valor entre os três')\n",
    "    elif n2 > n1 and n2 > n3:\n",
    "        print('N2 é o maior valor entre os três')\n",
    "    else: \n",
    "        print('N3 é o maior valor entre os três')\n",
    "        \n",
    "except ValueError:\n",
    "    print('O valor digitado deve ser um número')"
   ]
  },
  {
   "cell_type": "code",
   "execution_count": 57,
   "metadata": {},
   "outputs": [
    {
     "name": "stdin",
     "output_type": "stream",
     "text": [
      "Numero 1:  10\n",
      "Numero 2:  5\n",
      "Numero 3:  2\n"
     ]
    },
    {
     "name": "stdout",
     "output_type": "stream",
     "text": [
      "N1 é o maior valor entre os três\n",
      "N3 é o menor valor entre os três\n"
     ]
    }
   ],
   "source": [
    "\"\"\"Faça um Programa que leia três números e mostre o maior e o menor deles.\"\"\"\n",
    "\n",
    "try:\n",
    "    n1 = int(input('Numero 1: '))\n",
    "    n2 = int(input('Numero 2: '))\n",
    "    n3 = int(input('Numero 3: '))\n",
    "    \n",
    "    if n1 > n2 and n1 > n3:\n",
    "        print('N1 é o maior valor entre os três')\n",
    "    elif n2 > n1 and n2 > n3:\n",
    "        print('N2 é o maior valor entre os três')\n",
    "    else: \n",
    "        print('N3 é o maior valor entre os três')\n",
    "        \n",
    "    if n1 < n2 and n1 < n3:\n",
    "        print('N1 é o menor valor entre os três')\n",
    "    elif n2 < n1 and n2 < n3:\n",
    "        print('N2 é o menor valor entre os três')\n",
    "    else: \n",
    "        print('N3 é o menor valor entre os três')\n",
    "        \n",
    "except ValueError:\n",
    "    print('O valor digitado deve ser um número')"
   ]
  },
  {
   "cell_type": "code",
   "execution_count": 59,
   "metadata": {},
   "outputs": [
    {
     "name": "stdin",
     "output_type": "stream",
     "text": [
      "Informe o preço do produto 1:  5.50\n",
      "Informe o preço do produto 2:  6.80\n",
      "Informe o preço do produto 3:  2.70\n"
     ]
    },
    {
     "name": "stdout",
     "output_type": "stream",
     "text": [
      "Dos três produtos o produto 3 é o mais barato\n"
     ]
    }
   ],
   "source": [
    "\"\"\"Faça um programa que pergunte o preço de três produtos e informe qual produto você deve comprar, \n",
    "sabendo que a decisão é sempre pelo mais barato.\"\"\"\n",
    "\n",
    "try:\n",
    "    produto1 = float(input('Informe o preço do produto 1: '))\n",
    "    produto2 = float(input('Informe o preço do produto 2: '))\n",
    "    produto3 = float(input('Informe o preço do produto 3: '))\n",
    "    \n",
    "    if produto1 < produto2 and produto1 < produto3:\n",
    "        print('Dos três produtos o produto 1 é o mais barato')\n",
    "    elif produto2 < produto1 and produto2 < produto3:\n",
    "        print('Dos três produtos o produto 2 é o mais barato')\n",
    "    else: \n",
    "        print('Dos três produtos o produto 3 é o mais barato')\n",
    "    \n",
    "except ValueError:\n",
    "    print('O valor digitado é inválido')\n"
   ]
  },
  {
   "cell_type": "code",
   "execution_count": 68,
   "metadata": {},
   "outputs": [
    {
     "name": "stdin",
     "output_type": "stream",
     "text": [
      "Digite um número:  8\n"
     ]
    },
    {
     "name": "stdout",
     "output_type": "stream",
     "text": [
      "valor de N 0\n"
     ]
    },
    {
     "name": "stdin",
     "output_type": "stream",
     "text": [
      "Digite um número:  2\n"
     ]
    },
    {
     "name": "stdout",
     "output_type": "stream",
     "text": [
      "valor de N 1\n"
     ]
    },
    {
     "name": "stdin",
     "output_type": "stream",
     "text": [
      "Digite um número:  9\n"
     ]
    },
    {
     "name": "stdout",
     "output_type": "stream",
     "text": [
      "valor de N 2\n",
      "Os valores digitados em ordem decrecente são [9, 8, 2]\n"
     ]
    }
   ],
   "source": [
    "\"\"\"Faça um Programa que leia três números e mostre-os em ordem decrescente.\"\"\"\n",
    "\n",
    "lista_decrecente = []\n",
    "n = 0\n",
    "\n",
    "try:\n",
    "    while n < 3:\n",
    "        x1 = int(input('Digite um número: '))\n",
    "        lista_decrecente.append(x1)\n",
    "        print('valor de N {}'.format(n))\n",
    "        n = n+1\n",
    "    lista_decrecente.sort(key=int, reverse=True)\n",
    "    \n",
    "    print('Os valores digitados em ordem decrecente são {}'.format(lista_decrecente))\n",
    "      \n",
    "except ValueError:\n",
    "    print('O valor digitado deve ser um número')"
   ]
  },
  {
   "cell_type": "code",
   "execution_count": 69,
   "metadata": {},
   "outputs": [
    {
     "name": "stdin",
     "output_type": "stream",
     "text": [
      "Qual seu turno de estudo:  M\n"
     ]
    },
    {
     "name": "stdout",
     "output_type": "stream",
     "text": [
      "Bom dia!\n"
     ]
    }
   ],
   "source": [
    "\"\"\"Faça um Programa que pergunte em que turno você estuda. Peça para digitar M-matutino ou \n",
    "V-Vespertino ou N- Noturno. Imprima a mensagem \"Bom Dia!\", \"Boa Tarde!\" \n",
    "ou \"Boa Noite!\" ou \"Valor Inválido!\", conforme o caso.\"\"\"\n",
    "\n",
    "turno = input('Qual seu turno de estudo: ')\n",
    "\n",
    "if turno == 'M':\n",
    "    print('Bom dia!')\n",
    "elif turno == 'V':\n",
    "    print('Boa tarde!')\n",
    "elif turno == 'N':\n",
    "    print('Boa Noite!')\n",
    "else:\n",
    "    print('Valor Inválido')\n",
    "\n",
    "\n",
    "    "
   ]
  },
  {
   "cell_type": "code",
   "execution_count": 82,
   "metadata": {},
   "outputs": [
    {
     "name": "stdin",
     "output_type": "stream",
     "text": [
      "Digite o valor do Sálario:  280.00\n"
     ]
    },
    {
     "name": "stdout",
     "output_type": "stream",
     "text": [
      "O valor so salario antes do reajuste era 280.0\n",
      "O percentual aplicado sobre o salario foi de 20%\n",
      "O valor do salario após o aumento foi de 336.0\n"
     ]
    }
   ],
   "source": [
    "\"\"\"As Organizações Tabajara resolveram dar um aumento de salário aos seus colaboradores e lhe contraram \n",
    "para desenvolver o programa que calculará os reajustes.\n",
    "Faça um programa que recebe o salário de um colaborador e o reajuste segundo o seguinte critério, \n",
    "baseado no salário atual:\n",
    "salários até R$ 280,00 (incluindo) : aumento de 20%\n",
    "salários entre R$ 280,00 e R$ 700,00 : aumento de 15%\n",
    "salários entre R$ 700,00 e R$ 1500,00 : aumento de 10%\n",
    "salários de R$ 1500,00 em diante : aumento de 5% Após o aumento ser realizado, informe na tela:\n",
    "o salário antes do reajuste;\n",
    "o percentual de aumento aplicado;\n",
    "o valor do aumento;\n",
    "o novo salário, após o aumento.\"\"\"\n",
    "\n",
    "try:\n",
    "    salario = float(input('Digite o valor do Sálario: '))\n",
    "    \n",
    "    if salario <= 280.00: \n",
    "        novo_sal = float(salario+(salario * 0.2))\n",
    "        print('O valor so salario antes do reajuste era {}'.format(salario))\n",
    "        print('O percentual aplicado sobre o salario foi de 20%')\n",
    "        print('O valor do salario após o aumento foi de {}'.format(novo_sal))\n",
    "    elif salario > 280.00 and salario <= 700.00:\n",
    "        novo_sal = float(salario+(salario * 0.15))\n",
    "        print('O valor so salario antes do reajuste era {}'.format(salario))\n",
    "        print('O percentual aplicado sobre o salario foi de 15%')\n",
    "        print('O valor do salario após o aumento foi de {}'.format(novo_sal))\n",
    "    elif salario > 700.00 and salario <= 1500.00:\n",
    "        novo_sal = float(salario+(salario * 0.10))\n",
    "        print('O valor so salario antes do reajuste era {}'.format(salario))\n",
    "        print('O percentual aplicado sobre o salario foi de 10%')\n",
    "        print('O valor do salario após o aumento foi de {}'.format(novo_sal))\n",
    "    else: \n",
    "        novo_sal = float(salario+(salario * 0.5))\n",
    "        print('O valor so salario antes do reajuste era {}'.format(salario))\n",
    "        print('O percentual aplicado sobre o salario foi de 5%')\n",
    "        print('O valor do salario após o aumento foi de {}'.format(novo_sal))\n",
    "except ValueError:\n",
    "    print('Valor incorreto')"
   ]
  },
  {
   "cell_type": "code",
   "execution_count": 80,
   "metadata": {},
   "outputs": [
    {
     "name": "stdin",
     "output_type": "stream",
     "text": [
      "Digite o valor do Sálario:  280\n",
      "Digite a porcentagem do aumento:  20\n"
     ]
    },
    {
     "name": "stdout",
     "output_type": "stream",
     "text": [
      "O valor so salario antes do reajuste era 280.0\n",
      "O percentual aplicado sobre o salario foi de 20%\n",
      "O valor do salario após o aumento foi de 336.0\n"
     ]
    }
   ],
   "source": [
    "\"\"\"As Organizações Tabajara resolveram dar um aumento de salário aos seus colaboradores e lhe contraram \n",
    "para desenvolver o programa que calculará os reajustes.\n",
    "Faça um programa que recebe o salário de um colaborador e o reajuste segundo o seguinte critério, \n",
    "baseado no salário atual:\n",
    "salários até R$ 280,00 (incluindo) : aumento de 20%\n",
    "salários entre R$ 280,00 e R$ 700,00 : aumento de 15%\n",
    "salários entre R$ 700,00 e R$ 1500,00 : aumento de 10%\n",
    "salários de R$ 1500,00 em diante : aumento de 5% Após o aumento ser realizado, informe na tela:\n",
    "o salário antes do reajuste;\n",
    "o percentual de aumento aplicado;\n",
    "o valor do aumento;\n",
    "o novo salário, após o aumento.\"\"\"\n",
    "\n",
    "try:\n",
    "    salario = float(input('Digite o valor do Sálario: '))\n",
    "    perc = input('Digite a porcentagem do aumento: ')\n",
    "    \n",
    "    print('O valor so salario antes do reajuste era {}'.format(salario))\n",
    "    print('O percentual aplicado sobre o salario foi de {}%'.format(perc))\n",
    "    \n",
    "    novoSalario = float(salario + (salario*float(perc))/100)\n",
    "    print('O valor do salario após o aumento foi de {}'.format(novoSalario))\n",
    "        \n",
    "except ValueError:\n",
    "    print('Valor incorreto')\n"
   ]
  },
  {
   "cell_type": "code",
   "execution_count": 2,
   "metadata": {},
   "outputs": [
    {
     "name": "stdin",
     "output_type": "stream",
     "text": [
      "Digite o valor da sua hora:  600\n",
      "Digite a qtd de horas trabalhadas:  6\n"
     ]
    },
    {
     "name": "stdout",
     "output_type": "stream",
     "text": [
      "Salario bruto 3600.0\n",
      "IR (10%) 720.0\n",
      "INSS (10%) 360.0\n",
      "FGTS (11%) 396.0\n",
      "Total de descontos 1476.0\n",
      "Salario liquido 2124.0\n"
     ]
    }
   ],
   "source": [
    "\"\"\"Faça um programa para o cálculo de uma folha de pagamento, sabendo que os descontos são do Imposto\n",
    "de Renda, que depende do salário bruto (conforme tabela abaixo) e 3% para o Sindicato e que o FGTS \n",
    "corresponde a 11% do Salário Bruto, mas não é descontado (é a empresa que deposita). \n",
    "O Salário Líquido corresponde ao Salário Bruto menos os descontos. O programa deverá pedir ao usuário\n",
    "o valor da sua hora e a quantidade de horas trabalhadas no mês.\n",
    "Desconto do IR:\n",
    "Salário Bruto até 900 (inclusive) - isento\n",
    "Salário Bruto até 1500 (inclusive) - desconto de 5%\n",
    "Salário Bruto até 2500 (inclusive) - desconto de 10%\n",
    "Salário Bruto acima de 2500 - desconto de 20% Imprima na tela as informações, dispostas conforme\n",
    "o exemplo abaixo. No exemplo o valor da hora é 5 e a quantidade de hora é 220.\"\"\"\n",
    "\n",
    "#salario_bruto = float(input('Digite o valor do salario bruto: '))\n",
    "val_hora = float(input('Digite o valor da sua hora: '))\n",
    "qdt_horas = float(input('Digite a qtd de horas trabalhadas: '))\n",
    "\n",
    "salario_bruto = qdt_horas * val_hora\n",
    "\n",
    "print('Salario bruto {}'.format(salario_bruto))\n",
    "\n",
    "INSS = float(salario_bruto * float(10) / 100)\n",
    "FGTS = float(salario_bruto * float(11) / 100)\n",
    "#total_desc = sindicato + FGTS\n",
    "\n",
    "if salario_bruto <= 900.00:\n",
    "    total_desc = sindicato + FGTS\n",
    "    sal_liq = float((salario_bruto - INSS) - FGTS)\n",
    "    print(\"Isento de imposto de Renda\") \n",
    "    print('INSS (10%) {}'.format(INSS))\n",
    "    print('FGTS (11%) {}'.format(FGTS))\n",
    "    print('Total de descontos {}'.format(total_desc))\n",
    "    print('Salario liquido {}'.format(sal_liq))\n",
    "\n",
    "elif salario_bruto > 900.00  and salario_bruto <= 1500.00:\n",
    "    IR_5 = float(salario_bruto * float(5) / 100)\n",
    "    sal_liq = float(salario_bruto - INSS - FGTS - IR_5)\n",
    "    total_desc = INSS + FGTS + IR_5\n",
    "    print('IR (5%) {}'.format(IR_5))\n",
    "    print('INSS (10%) {}'.format(INSS))\n",
    "    print('FGTS (11%) {}'.format(FGTS))\n",
    "    print('Total de descontos {}'.format(total_desc))\n",
    "    print('Salario liquido {}'.format(sal_liq))\n",
    "    \n",
    "elif salario_bruto > 1500.00 and salario_bruto <= 2500.00:\n",
    "    IR_10 = float(salario_bruto * float(10) / 100)\n",
    "    sal_liq = float(salario_bruto - INSS - FGTS - IR_10)\n",
    "    total_desc = INSS + FGTS + IR_10\n",
    "    print('IR (10%) {}'.format(IR_10))\n",
    "    print('INSS (10%) {}'.format(INSS))\n",
    "    print('FGTS (11%) {}'.format(FGTS))\n",
    "    print('Total de descontos {}'.format(total_desc))\n",
    "    print('Salario liquido {}'.format(sal_liq))\n",
    "\n",
    "else:\n",
    "    IR_20 = float(salario_bruto * float(20) / 100)\n",
    "    sal_liq = float(salario_bruto - INSS - FGTS - IR_20)\n",
    "    total_desc = INSS + FGTS + IR_20\n",
    "    print('IR (20%) {}'.format(IR_20))\n",
    "    print('INSS (10%) {}'.format(INSS))\n",
    "    print('FGTS (11%) {}'.format(FGTS))\n",
    "    print('Total de descontos {}'.format(total_desc))\n",
    "    print('Salario liquido {}'.format(sal_liq))\n"
   ]
  },
  {
   "cell_type": "code",
   "execution_count": 14,
   "metadata": {},
   "outputs": [
    {
     "name": "stdin",
     "output_type": "stream",
     "text": [
      "Digite um número entre 1 e 7:  5\n"
     ]
    },
    {
     "name": "stdout",
     "output_type": "stream",
     "text": [
      "Quinta\n"
     ]
    }
   ],
   "source": [
    "try:\n",
    "    num7 = int(input('Digite um número entre 1 e 7: '))\n",
    "    \n",
    "    if num7 == 1:\n",
    "        print('Domingo')\n",
    "    elif num7 == 2:\n",
    "        print('Segunda')\n",
    "    elif num7 == 3:\n",
    "        print('terça')\n",
    "    elif num7 == 4:\n",
    "        print('Quarta')\n",
    "    elif num7 == 5:\n",
    "        print('Quinta')\n",
    "    elif num7 == 6:\n",
    "        print('Sexta')\n",
    "    elif num7 == 7:\n",
    "        print('Sábado')\n",
    "\n",
    "except ValueError:\n",
    "    print('O Valor deve ser um número!')"
   ]
  },
  {
   "cell_type": "code",
   "execution_count": 19,
   "metadata": {},
   "outputs": [
    {
     "name": "stdin",
     "output_type": "stream",
     "text": [
      "Nota 1 9.0\n",
      "Nota 2 8.0\n"
     ]
    },
    {
     "name": "stdout",
     "output_type": "stream",
     "text": [
      "APROVADO, Aluno com conceito B\n"
     ]
    }
   ],
   "source": [
    "\"\"\" Faça um programa que lê as duas notas parciais obtidas por um aluno numa disciplina ao \n",
    "longo de um semestre, e calcule a sua média. A atribuição de conceitos obedece à tabela abaixo:\n",
    "\n",
    "O algoritmo deve mostrar na tela as notas, a média, o conceito correspondente e a mensagem \n",
    "“APROVADO” se o conceito for A, B ou C ou “REPROVADO” se o conceito for D ou E.\n",
    "\"\"\"\n",
    "\n",
    "try:\n",
    "    nota1 = float(input('Nota 1'))\n",
    "    nota2 = float(input('Nota 2'))\n",
    "    media = (nota1 + nota2)/2 \n",
    "    \n",
    "    if media > 9.0 and media <= 10.0:\n",
    "        print('APROVADO, Aluno com conceito A')\n",
    "    elif media > 7.5 and media <= 9.0: \n",
    "        print('APROVADO, Aluno com conceito B')\n",
    "    elif media > 6.0 and media <= 7.5: \n",
    "        print('APROVADO, Aluno com conceito C')\n",
    "    elif media > 4.0 and media <= 6.0: \n",
    "        print('REPROVADO, Aluno com conceito D')\n",
    "    elif media > 0.0 and media <= 4.0: \n",
    "        print('REPROVADO, Aluno com conceito E')\n",
    "              \n",
    "except ValueError:\n",
    "    print('Nota Inválida!!!')"
   ]
  },
  {
   "cell_type": "code",
   "execution_count": 38,
   "metadata": {},
   "outputs": [
    {
     "name": "stdin",
     "output_type": "stream",
     "text": [
      "Digite o valor do primeiro lado do triângulo:  6\n",
      "Digite o valor do segundo lado do triângulo:  6\n",
      "Digite o valor do terceiro lado do triângulo:  6\n"
     ]
    },
    {
     "name": "stdout",
     "output_type": "stream",
     "text": [
      "Triângulo Equilátero\n"
     ]
    }
   ],
   "source": [
    "\"\"\"Faça um Programa que peça os 3 lados de um triângulo. O programa deverá informar se os valores\n",
    "podem ser um triângulo. Indique, caso os lados formem um triângulo, se o mesmo é: equilátero, isósceles\n",
    "ou escaleno.\n",
    "Dicas:\n",
    "Três lados formam um triângulo quando a soma de quaisquer dois lados for maior que o terceiro;\n",
    "Triângulo Equilátero: três lados iguais;\n",
    "Triângulo Isósceles: quaisquer dois lados iguais;\n",
    "Triângulo Escaleno: três lados diferentes;\"\"\"\n",
    "\n",
    "try: \n",
    "    l1 = int(input('Digite o valor do primeiro lado do triângulo: '))\n",
    "    l2 = int(input('Digite o valor do segundo lado do triângulo: '))\n",
    "    l3 = int(input('Digite o valor do terceiro lado do triângulo: '))\n",
    "    \n",
    "    if ((l1 + l2) > l3 and (l2 + l3) > l1 and (l1 + l3) > l2):\n",
    "        if l1 == l2 and l1 == l3:\n",
    "            print('Triângulo Equilátero')\n",
    "        elif l1 == l2 or l1 == l3:\n",
    "            print('Triângulo Isósceles')\n",
    "        else: \n",
    "            print('Triângulo Escaleno')\n",
    "    \n",
    "except ValueError:\n",
    "    print('Valor inválido!!!')"
   ]
  },
  {
   "cell_type": "code",
   "execution_count": 10,
   "metadata": {},
   "outputs": [
    {
     "name": "stdin",
     "output_type": "stream",
     "text": [
      "Digite o valor de A:  2\n",
      "Digite o valor de B:  9\n",
      "Digite o valor de C:  4\n"
     ]
    },
    {
     "name": "stdout",
     "output_type": "stream",
     "text": [
      "Delta = 49\n",
      " A a equação possui duas raizes reais\n",
      "A raiz do delta é 7.0\n",
      "x1 -0.5\n",
      "x2 -4.0\n"
     ]
    }
   ],
   "source": [
    "\"\"\"Faça um programa que calcule as raízes de uma equação do segundo grau, na forma ax2 + bx + c. \n",
    "O programa deverá pedir os valores de a, b e c e fazer as consistências, informando ao usuário nas\n",
    "seguintes situações:\n",
    "\n",
    "Se o usuário informar o valor de A igual a zero, a equação não é do segundo grau e o programa não deve\n",
    "fazer pedir os demais valores, sendo encerrado;\n",
    "Se o delta calculado for negativo, a equação não possui raizes reais. Informe ao usuário e encerre o\n",
    "programa;\n",
    "Se o delta calculado for igual a zero a equação possui apenas uma raiz real; informe-a ao usuário;\n",
    "Se o delta for positivo, a equação possui duas raiz reais; informe-as ao usuário;\"\"\"\n",
    "\n",
    "# ∆ = b² - 4ac\n",
    "# ax2 + bx + c\n",
    "a = int(input('Digite o valor de A: '))\n",
    "\n",
    "exit = True\n",
    "while exit: \n",
    "    if a == 0:\n",
    "        print('A equação não é do segundo grau!')\n",
    "        exit = False\n",
    "    else: \n",
    "        b = int(input('Digite o valor de B: '))\n",
    "        c = int(input('Digite o valor de C: '))\n",
    "        delta = (b ** 2) - 4 * (a * c)\n",
    "        print('Delta = {}'.format(delta))\n",
    "\n",
    "        if delta < 0:\n",
    "            print('A equação não possui raizes reais!')\n",
    "            exit = False\n",
    "\n",
    "        elif delta == 0:\n",
    "            print(' A a equação possui apenas uma raiz real')\n",
    "            raizdelta = delta ** 0.5\n",
    "            print('A raiz do delta é {}'.format(raizdelta))\n",
    "            x1 = (-b + raizdelta) / (2 * a)\n",
    "            print('x1',x1)\n",
    "            exit = False\n",
    "        elif delta > 0:\n",
    "            print(' A a equação possui duas raizes reais')\n",
    "            raizdelta = delta ** 0.5\n",
    "            print('A raiz do delta é {}'.format(raizdelta))\n",
    "            x1 = (-b + raizdelta) / (2 * a)\n",
    "            x2 = (-b - raizdelta) / (2 * a)\n",
    "            print('x1',x1)\n",
    "            print('x2',x2)\n",
    "            exit = False"
   ]
  },
  {
   "cell_type": "code",
   "execution_count": 1,
   "metadata": {},
   "outputs": [
    {
     "name": "stdin",
     "output_type": "stream",
     "text": [
      "Informe um ano:  1992\n"
     ]
    },
    {
     "name": "stdout",
     "output_type": "stream",
     "text": [
      "Esse ano é Bisexto\n"
     ]
    }
   ],
   "source": [
    "\"\"\"a um Programa que peça um número correspondente a um determinado ano e em seguida informe se \n",
    "este ano é ou não bissexto.\"\"\"\n",
    "\n",
    "ano = int(input('Informe um ano: '))\n",
    "\n",
    "if ano%4 == 0 and ano%100 != 0:\n",
    "    print('Esse ano é Bisexto')\n",
    "else:\n",
    "    print('Esse ano não é Bisexto')"
   ]
  },
  {
   "cell_type": "code",
   "execution_count": 1,
   "metadata": {},
   "outputs": [
    {
     "name": "stdin",
     "output_type": "stream",
     "text": [
      "Dia:  3\n",
      "Mês:  6\n",
      "Ano:  2020\n"
     ]
    },
    {
     "name": "stdout",
     "output_type": "stream",
     "text": [
      "Data Válida\n"
     ]
    }
   ],
   "source": [
    "\"\"\"Faça um Programa que peça uma data no formato dd/mm/aaaa e determine se a mesma é uma data válida.\"\"\"\n",
    "\n",
    "dia = int( input('Dia: '))\n",
    "mes = int( input('Mês: '))\n",
    "ano = int( input('Ano: '))\n",
    "\n",
    "valida = False\n",
    "\n",
    "mes31 = [1, 3, 5, 7, 8, 10, 12]\n",
    "mes30 = [4, 6, 9, 11]\n",
    "mes2 = [2]\n",
    "\n",
    "if mes in mes31:\n",
    "    if dia >= 1 and dia <= 31:\n",
    "        valida = True\n",
    "    else:\n",
    "        valida = False\n",
    "elif mes in mes30:\n",
    "    if dia >= 1 and dia <= 30:\n",
    "        valida = True\n",
    "    else:\n",
    "        valida = False\n",
    "elif mes in mes2:\n",
    "    if ano % 4 == 0 and ano % 100 != 0:\n",
    "        if dia >= 1 and dia <= 29:\n",
    "            valida = True\n",
    "    elif dia >= 1 and dia <= 28:\n",
    "        valida = True\n",
    "    \n",
    "if valida:\n",
    "    print('Data Válida')\n",
    "else:\n",
    "    print('Data Invalida')\n",
    "    \n"
   ]
  },
  {
   "cell_type": "code",
   "execution_count": 38,
   "metadata": {},
   "outputs": [
    {
     "name": "stdin",
     "output_type": "stream",
     "text": [
      "Digite um número menor que 1000:  1\n"
     ]
    },
    {
     "name": "stdout",
     "output_type": "stream",
     "text": [
      "0 centenas\n",
      "0 dezenas\n",
      "1 unidade\n"
     ]
    }
   ],
   "source": [
    "\"\"\"Faça um Programa que leia um número inteiro menor que 1000 e imprima a quantidade de centenas, \n",
    "dezenas e unidades do mesmo.\n",
    "Observando os termos no plural a colocação do \"e\", da vírgula entre outros. Exemplo:\n",
    "326 = 3 centenas, 2 dezenas e 6 unidades\n",
    "12 = 1 dezena e 2 unidades Testar com: 326, 300, 100, 320, 310,305, 301, 101, 311, 111, 25, 20, 10,\n",
    "21, 11, 1, 7 e 16\"\"\"\n",
    "\n",
    "numL = int(input('Digite um número menor que 1000: '))\n",
    "\n",
    "uni = numL % 10\n",
    "dez = int(((numL - uni)/10)%10)\n",
    "cen = int(numL / 100)\n",
    "\n",
    "#print(uni)\n",
    "#print(dez)\n",
    "\n",
    "if numL < 1000:\n",
    "    \n",
    "    if cen > 1 and cen < 10:\n",
    "        print('{} centenas'.format(cen))\n",
    "    elif cen == 100:\n",
    "         print('{} centena'.format(cen))\n",
    "    else:\n",
    "        print('{} centenas'.format(cen))\n",
    "        \n",
    "    if dez > 1 and dez < 10:\n",
    "        print('{} dezenas'.format(dez))\n",
    "    elif dez == 1:\n",
    "         print('{} dezena'.format(dez))\n",
    "    else:\n",
    "        print('{} dezenas'.format(dez))\n",
    "    \n",
    "    if uni > 1 and uni < 10:\n",
    "        print('{} unidades'.format(uni))\n",
    "    elif uni == 1:\n",
    "         print('{} unidade'.format(uni))\n",
    "    else:\n",
    "        print('{} unidades'.format(uni))\n",
    "        \n",
    "#Testar com: 326, 300, 100, 320, 310,305, 301, 101, 311, 111, 25, 20, 10,\n",
    "#21, 11, 1, 7 e 16\"\"\"\n"
   ]
  },
  {
   "cell_type": "code",
   "execution_count": 45,
   "metadata": {},
   "outputs": [
    {
     "name": "stdin",
     "output_type": "stream",
     "text": [
      "Digite o valor do saque:  382\n"
     ]
    },
    {
     "name": "stdout",
     "output_type": "stream",
     "text": [
      "2.0 notas de 1 disponiveis\n",
      "0 notas de 10 disponiveis\n",
      "3 notas de 100 disponiveis\n",
      "6 notas de 50 disponiveis\n"
     ]
    }
   ],
   "source": [
    "\"\"\"Faça um Programa para um caixa eletrônico. O programa deverá perguntar ao usuário a valor do saque \n",
    "e depois informar quantas notas de cada valor serão fornecidas. As notas disponíveis serão as de\n",
    "1, 5, 10, 50 e 100 reais.\n",
    "O valor mínimo é de 10 reais e o máximo de 600 reais. O programa não deve se preocupar com a quantidade\n",
    "de notas existentes na máquina.\n",
    "Exemplo 1: Para sacar a quantia de 256 reais, o programa fornece duas notas de 100, uma nota de 50,\n",
    "uma nota de 5 e uma nota de 1;\n",
    "Exemplo 2: Para sacar a quantia de 399 reais, o programa fornece três notas de 100, uma nota de 50,\n",
    "quatro notas de 10, uma nota de 5 e quatro notas de 1.\"\"\"\n",
    "\n",
    "saque = float(input('Digite o valor do saque: '))\n",
    "    \n",
    "if saque >= 10.00 and saque <= 600.00:\n",
    "    uni = int(saque % 10)\n",
    "    print('{} notas de 1 disponiveis'.format(uni))\n",
    "    dez = int(((dez - uni)/10)%10)\n",
    "    print('{} notas de 10 disponiveis'.format(dez))\n",
    "    cen = int(saque / 100)\n",
    "    print('{} notas de 100 disponiveis'.format(cen))\n",
    "    cinq = int(cen * 2)\n",
    "    print('{} notas de 50 disponiveis'.format(cinq))\n",
    "else:\n",
    "    print('Valor indiponível')\n",
    "\n",
    "# uni = numL % 10\n",
    "# dez = int(((numL - uni)/10)%10)\n",
    "# cen = int(numL / 100)\n",
    "\n"
   ]
  },
  {
   "cell_type": "code",
   "execution_count": 54,
   "metadata": {},
   "outputs": [
    {
     "name": "stdin",
     "output_type": "stream",
     "text": [
      "Digite o valor do saque:  356.00\n"
     ]
    },
    {
     "name": "stdout",
     "output_type": "stream",
     "text": [
      "3 notas de 100\n",
      "1 notas de 50\n",
      "0 notas de 10\n",
      "1 notas de 5\n",
      "1 notas de 1\n"
     ]
    }
   ],
   "source": [
    "\"\"\"Faça um Programa para um caixa eletrônico. O programa deverá perguntar ao usuário a valor do saque \n",
    "e depois informar quantas notas de cada valor serão fornecidas. As notas disponíveis serão as de\n",
    "1, 5, 10, 50 e 100 reais.\n",
    "O valor mínimo é de 10 reais e o máximo de 600 reais. O programa não deve se preocupar com a quantidade\n",
    "de notas existentes na máquina.\n",
    "Exemplo 1: Para sacar a quantia de 256 reais, o programa fornece duas notas de 100, uma nota de 50,\n",
    "uma nota de 5 e uma nota de 1;\n",
    "Exemplo 2: Para sacar a quantia de 399 reais, o programa fornece três notas de 100, uma nota de 50,\n",
    "quatro notas de 10, uma nota de 5 e quatro notas de 1.\"\"\"\n",
    "\n",
    "saque = float(input('Digite o valor do saque: '))\n",
    "    \n",
    "if saque >= 10.00 and saque <= 600.00:\n",
    "    nota100 = int(saque / 100)\n",
    "    saque = saque - (nota100 * 100)\n",
    "    print('{} notas de 100'.format(nota100))\n",
    "    \n",
    "    nota50 = int(saque / 50)\n",
    "    saque = saque - (nota50 * 50)\n",
    "    print('{} notas de 50'.format(nota50))\n",
    "    \n",
    "    nota10 = int(saque / 10)\n",
    "    saque = saque - (nota10 * 10)\n",
    "    print('{} notas de 10'.format(nota10))\n",
    "    \n",
    "    nota5 = int(saque / 5)\n",
    "    saque = saque - (nota5 * 5)\n",
    "    print('{} notas de 5'.format(nota5))\n",
    "    \n",
    "    nota1 = int(saque)\n",
    "    print('{} notas de 1'.format(nota1))\n",
    "else:\n",
    "    print('Valor indiponível')"
   ]
  },
  {
   "cell_type": "code",
   "execution_count": 59,
   "metadata": {},
   "outputs": [
    {
     "name": "stdin",
     "output_type": "stream",
     "text": [
      "Digite um número:  6\n"
     ]
    },
    {
     "name": "stdout",
     "output_type": "stream",
     "text": [
      "Número Par\n"
     ]
    }
   ],
   "source": [
    "\"\"\"ça um Programa que peça um número inteiro e determine se ele é par ou impar. \n",
    "Dica: utilize o operador módulo (resto da divisão).\"\"\"\n",
    "\n",
    "numero00 = int(input('Digite um número: '))\n",
    "\n",
    "if numero00 % 2 == 0:\n",
    "    print('Número Par')\n",
    "else:\n",
    "    print('Número impar')"
   ]
  },
  {
   "cell_type": "code",
   "execution_count": 67,
   "metadata": {},
   "outputs": [
    {
     "name": "stdin",
     "output_type": "stream",
     "text": [
      "Digite um número:  5\n"
     ]
    },
    {
     "name": "stdout",
     "output_type": "stream",
     "text": [
      "Número Inteiro\n"
     ]
    }
   ],
   "source": [
    "\"\"\"Faça um Programa que peça um número e informe se o número é inteiro ou decimal.\n",
    "Dica: utilize uma função de arredondamento.\"\"\"\n",
    "\n",
    "numDeci = float(input('Digite um número: '))\n",
    "\n",
    "if numDeci == round(numDeci):\n",
    "    print('Número Inteiro')\n",
    "else:\n",
    "    print('Numéro Decimal')"
   ]
  },
  {
   "cell_type": "code",
   "execution_count": 71,
   "metadata": {},
   "outputs": [
    {
     "name": "stdin",
     "output_type": "stream",
     "text": [
      "Digite um numero:  -6.6\n"
     ]
    },
    {
     "name": "stdout",
     "output_type": "stream",
     "text": [
      "Numero -6.6 é impar\n",
      "Numero -6.6 é Negativo!\n",
      "Numero -6.6 é Decimal!\n"
     ]
    }
   ],
   "source": [
    "\"\"\"Faça um Programa que leia 2 números e em seguida pergunte ao usuário qual operação ele deseja realizar.\n",
    "O resultado da operação deve ser acompanhado de uma frase que diga se o número é:\n",
    "\n",
    "par ou ímpar;\n",
    "positivo ou negativo;\n",
    "inteiro ou decimal.\"\"\"\n",
    "\n",
    "num09 = float(input('Digite um numero: '))\n",
    "\n",
    "if num09 % 2 == 0:\n",
    "    print('Numero {} é par!'.format(num09))\n",
    "else: \n",
    "    print('Numero {} é impar'.format(num09))\n",
    "\n",
    "if num09 < 0:\n",
    "    print('Numero {} é Negativo!'.format(num09))\n",
    "else:\n",
    "    print('Numero {} é Positivo!'.format(num09))\n",
    "    \n",
    "if num09 == round(num09):\n",
    "    print('Numero {} é Inteiro!'.format(num09))\n",
    "else:\n",
    "    print('Numero {} é Decimal!'.format(num09))"
   ]
  },
  {
   "cell_type": "code",
   "execution_count": 9,
   "metadata": {},
   "outputs": [
    {
     "name": "stdin",
     "output_type": "stream",
     "text": [
      "Telefonou para a vítima?  s\n",
      "Esteve no local do crime?  s\n",
      "Mora perto da vítima?  n\n",
      "Devia para a vítima?  n\n",
      "Já trabalhou com a vítima? n\n"
     ]
    },
    {
     "name": "stdout",
     "output_type": "stream",
     "text": [
      "Esta pessoa é Suspeita!\n"
     ]
    }
   ],
   "source": [
    "\"\"\"Faça um programa que faça 5 perguntas para uma pessoa sobre um crime. As perguntas são:\n",
    "a - \"Telefonou para a vítima?\"\n",
    "b - \"Esteve no local do crime?\"\n",
    "c - \"Mora perto da vítima?\"\n",
    "d - \"Devia para a vítima?\"\n",
    "e - \"Já trabalhou com a vítima?\" \n",
    "\n",
    "O programa deve no final emitir uma classificação sobre a participação\n",
    "da pessoa no crime. Se a pessoa responder positivamente a 2 questões ela deve ser classificada como \n",
    "\"Suspeita\", entre 3 e 4 como \"Cúmplice\" e 5 como \"Assassino\". \n",
    "Caso contrário, ele será classificado como \"Inocente\".\"\"\"\n",
    "respSim = 0\n",
    "respNao = 0\n",
    "\n",
    "pergunta1 = input('Telefonou para a vítima? ')\n",
    "pergunta2 = input('Esteve no local do crime? ')\n",
    "pergunta3 = input('Mora perto da vítima? ')\n",
    "pergunta4 = input('Devia para a vítima? ')\n",
    "pergunta5 = input('Já trabalhou com a vítima?')\n",
    "\n",
    "perguntas = [pergunta1, pergunta2, pergunta3, pergunta4, pergunta5]\n",
    "\n",
    "for p in perguntas:\n",
    "    if p == 's':\n",
    "        respSim = respSim + 1\n",
    "    elif p == 'n':\n",
    "        respNao = respNao + 1\n",
    "\n",
    "if respSim == 2:\n",
    "    print('Esta pessoa é Suspeita!')\n",
    "elif respSim >=3 and respSim <= 4:\n",
    "    print('Esta pessoa é Cumplice!')\n",
    "elif respSim == 5:\n",
    "     print('Esta pessoa é Culpada!')"
   ]
  },
  {
   "cell_type": "code",
   "execution_count": 4,
   "metadata": {},
   "outputs": [
    {
     "name": "stdin",
     "output_type": "stream",
     "text": [
      "Digite a qtd de Litros vendidos:  5\n",
      "Digite o tipo de combustível: A-álcool e G-gasolina:  G\n"
     ]
    },
    {
     "name": "stdout",
     "output_type": "stream",
     "text": [
      "O total a ser pago pelo cliente é 12.0\n"
     ]
    }
   ],
   "source": [
    "\"\"\"Um posto está vendendo combustíveis com a seguinte tabela de descontos:\n",
    "a - Álcool:\n",
    "b - até 20 litros, desconto de 3% por litro\n",
    "c - acima de 20 litros, desconto de 5% por litro \n",
    "d - Gasolina:\n",
    "e - até 20 litros, desconto de 4% por litro\n",
    "f - acima de 20 litros, desconto de 6% por litro \n",
    "\n",
    "Escreva um algoritmo que leia o número de litros vendidos, o tipo de combustível (codificado da\n",
    "seguinte forma: A-álcool, G-gasolina), calcule e imprima o valor a ser pago pelo cliente \n",
    "sabendo-se que o preço do litro da gasolina é R$ 2,50 o preço do litro do álcool\n",
    "é R$ 1,90.\"\"\"\n",
    "\n",
    "precoAlcool = 1.90\n",
    "precoGaso = 2.50\n",
    "\n",
    "litros = int(input('Digite a qtd de Litros vendidos: '))\n",
    "tipo_combustivel = input('Digite o tipo de combustível: A-álcool e G-gasolina: ')\n",
    "\n",
    "if tipo_combustivel == 'A':\n",
    "    if litros >= 1 and litros <= 20:\n",
    "        preco_alcool_com_Desconto = precoAlcool - (precoAlcool * 3 / 100)\n",
    "        totalApagar = litros * preco_alcool_com_Desconto\n",
    "        print('O total a ser pago pelo cliente é {}'.format(totalApagar))\n",
    "    else:\n",
    "        preco_alcool_com_Desconto = precoAlcool - (precoAlcool * 5 / 100)\n",
    "        totalApagar = litros * preco_alcool_com_Desconto\n",
    "        print('O total a ser pago pelo cliente é {}'.format(totalApagar))\n",
    "if tipo_combustivel == 'G':\n",
    "    if litros >= 1 and litros <= 20:\n",
    "        preco_gasolina_com_Desconto = precoGaso - (precoGaso * 4 / 100)\n",
    "        totalApagar = litros * preco_gasolina_com_Desconto\n",
    "        print('O total a ser pago pelo cliente é {}'.format(totalApagar))\n",
    "    else:\n",
    "        preco_gasolina_com_Desconto = precoGaso - (precoGaso * 6 / 100)\n",
    "        totalApagar = litros * preco_gasolina_com_Desconto\n",
    "        print('O total a ser pago pelo cliente é {}'.format(totalApagar))\n"
   ]
  },
  {
   "cell_type": "code",
   "execution_count": 14,
   "metadata": {},
   "outputs": [
    {
     "name": "stdin",
     "output_type": "stream",
     "text": [
      "Digite uma quantidade em Kg de morangos:  8\n",
      "Digite uma quantidade em Kg de maçãs:  4\n"
     ]
    },
    {
     "name": "stdout",
     "output_type": "stream",
     "text": [
      "Desconto sobre os itens adquiridos é 21.24 R$\n"
     ]
    }
   ],
   "source": [
    "\"\"\"Uma fruteira está vendendo frutas com a seguinte tabela de preços:\n",
    "                      Até 5 Kg           Acima de 5 Kg\n",
    "Morango         R$ 2,50 por Kg          R$ 2,20 por Kg\n",
    "Maçã            R$ 1,80 por Kg          R$ 1,50 por Kg\n",
    "\n",
    "Se o cliente comprar mais de 8 Kg em frutas ou o valor total da compra ultrapassar R$ 25,00, \n",
    "receberá ainda um desconto de 10% sobre este total. Escreva um algoritmo para ler a quantidade\n",
    "(em Kg) de morangos e a quantidade (em Kg) de maças adquiridas e escreva o valor a ser pago pelo cliente.\n",
    "\"\"\"\n",
    "\n",
    "morangos = int(input('Digite uma quantidade em Kg de morangos: '))\n",
    "macas = int(input('Digite uma quantidade em Kg de maçãs: '))\n",
    "qtd_frutas = morangos + macas\n",
    "\n",
    "if morangos <= 5 and macas <= 5:\n",
    "    preco_morango = 2.50\n",
    "    preco_maca = 1.80\n",
    "    val_compras = float((morangos * preco_morango) + (macas * preco_maca))\n",
    "    if qtd_frutas > 8 or val_compras > 25.00:\n",
    "        desconto = val_compras - (val_compras * 10 / 100)\n",
    "        print('Desconto sobre os itens adquiridos é {} R$'.format(desconto))\n",
    "    else:\n",
    "        print('O valor das compras foram {} R$'.format(val_compras))\n",
    "else:\n",
    "    preco_morango = 2.20\n",
    "    preco_maca = 1.50\n",
    "    val_compras = float((morangos * preco_morango) + (macas * preco_maca))\n",
    "    if qtd_frutas > 8 or val_compras > 25.00:\n",
    "        desconto = val_compras - (val_compras * 10 / 100)\n",
    "        print('Desconto sobre os itens adquiridos é {:.2f} R$'.format(desconto))\n",
    "    else:\n",
    "        print('O valor das compras foram {:.2f} R$'.format(val_compras))"
   ]
  },
  {
   "cell_type": "code",
   "execution_count": 26,
   "metadata": {},
   "outputs": [
    {
     "name": "stdin",
     "output_type": "stream",
     "text": [
      "Digite o tipo de carne: F-File Duplo, A-Alcatra e P-Picanha:  F\n",
      "Digite a qtd de carne:  6\n",
      "Digite o tipo de pagamento: C-Cartão e D-Dinheiro:  C\n"
     ]
    },
    {
     "name": "stdout",
     "output_type": "stream",
     "text": [
      "Tipo de carne comprada: File Duplo\n",
      "Quantidade comprada: 6\n",
      "Preço total: 34.80\n",
      "Valor do desconto: 1.74\n",
      "Total a pagar: 33.06\n"
     ]
    }
   ],
   "source": [
    "\"\"\"O Hipermercado Tabajara está com uma promoção de carnes que é imperdível. Confira:\n",
    "                      Até 5 Kg           Acima de 5 Kg\n",
    "File Duplo      R$ 4,90 por Kg          R$ 5,80 por Kg\n",
    "Alcatra         R$ 5,90 por Kg          R$ 6,80 por Kg\n",
    "Picanha         R$ 6,90 por Kg          R$ 7,80 por Kg\n",
    "\n",
    "Para atender a todos os clientes, cada cliente poderá levar apenas um dos tipos de carne da promoção, \n",
    "porém não há limites para a quantidade de carne por cliente. Se compra for feita no cartão Tabajara o\n",
    "cliente receberá ainda um desconto de 5% sobre o total da compra. Escreva um programa que peça o tipo\n",
    "e a quantidade de carne comprada pelo usuário e gere um cupom fiscal, contendo as informações da compra:\n",
    "tipo e quantidade de carne, preço total, tipo de pagamento, valor do desconto e valor a pagar.\n",
    "\"\"\"\n",
    "\n",
    "tipoCarne = input('Digite o tipo de carne: F-File Duplo, A-Alcatra e P-Picanha: ')\n",
    "qtdCarne = int(input('Digite a qtd de carne: '))\n",
    "tipoPagamento = input('Digite o tipo de pagamento: C-Cartão e D-Dinheiro: ')\n",
    "\n",
    "if qtdCarne <= 5:\n",
    "    file_Duplo = 4.90\n",
    "    alcatra = 5.90\n",
    "    picanha = 6.90\n",
    "    if tipoCarne == 'F' and tipoPagamento == 'C':\n",
    "        tipoCarne = 'File Duplo'\n",
    "        precoTotal = float(qtdCarne * file_Duplo) \n",
    "        descCarne = float(precoTotal * 5 / 100)\n",
    "        pagamentoTotal = precoTotal - (precoTotal * 5 /100)\n",
    "        print('Tipo de carne comprada: {}'.format(tipoCarne))\n",
    "        print('Quantidade comprada: {}'.format(qtdCarne))\n",
    "        print('Preço total: {:.2f}'.format(precoTotal))\n",
    "        print('Valor do desconto: {:.2f}'.format(descCarne))\n",
    "        print('Total a pagar: {:.2f}'.format(pagamentoTotal))\n",
    "    elif tipoCarne == 'F' and tipoPagamento == 'D':\n",
    "        tipoCarne = 'File Duplo'\n",
    "        precoTotal = float(qtdCarne * file_Duplo) \n",
    "        descCarne = float(precoTotal * 5 / 100)\n",
    "        pagamentoTotal = precoTotal - (precoTotal * 5 /100)\n",
    "        print('Tipo de carne comprada: {}'.format(tipoCarne))\n",
    "        print('Quantidade comprada: {}'.format(qtdCarne))\n",
    "        print('Preço total: {:.2f}'.format(precoTotal))\n",
    "\n",
    "    if tipoCarne == 'A' and tipoPagamento == 'C':\n",
    "        tipoCarne = 'Alcatra'\n",
    "        precoTotal = float(qtdCarne * alcatra) \n",
    "        descCarne = float(precoTotal * 5 / 100)\n",
    "        pagamentoTotal = precoTotal - (precoTotal * 5 /100)\n",
    "        print('Tipo de carne comprada: {}'.format(tipoCarne))\n",
    "        print('Quantidade comprada: {}'.format(qtdCarne))\n",
    "        print('Preço total: {:.2f}'.format(precoTotal))\n",
    "        print('Valor do desconto: {:.2f}'.format(descCarne))\n",
    "        print('Total a pagar: {:.2f}'.format(pagamentoTotal))\n",
    "    elif tipoCarne == 'A' and tipoPagamento == 'D':\n",
    "        tipoCarne = 'Alcatra'\n",
    "        precoTotal = float(qtdCarne * alcatra) \n",
    "        descCarne = float(precoTotal * 5 / 100)\n",
    "        pagamentoTotal = precoTotal - (precoTotal * 5 /100)\n",
    "        print('Tipo de carne comprada: {}'.format(tipoCarne))\n",
    "        print('Quantidade comprada: {}'.format(qtdCarne))\n",
    "        print('Preço total: {:.2f}'.format(precoTotal))\n",
    "        \n",
    "    if tipoCarne == 'P' and tipoPagamento == 'C':\n",
    "        tipoCarne = 'Picanha'\n",
    "        precoTotal = float(qtdCarne * picanha) \n",
    "        descCarne = float(precoTotal * 5 / 100)\n",
    "        pagamentoTotal = precoTotal - (precoTotal * 5 /100)\n",
    "        print('Tipo de carne comprada: {}'.format(tipoCarne))\n",
    "        print('Quantidade comprada: {}'.format(qtdCarne))\n",
    "        print('Preço total: {:.2f}'.format(precoTotal))\n",
    "        print('Valor do desconto: {:.2f}'.format(descCarne))\n",
    "        print('Total a pagar: {:.2f}'.format(pagamentoTotal))\n",
    "    elif tipoCarne == 'P' and tipoPagamento == 'D':\n",
    "        tipoCarne = 'Picanha'\n",
    "        precoTotal = float(qtdCarne * picanha) \n",
    "        descCarne = float(precoTotal * 5 / 100)\n",
    "        pagamentoTotal = precoTotal - (precoTotal * 5 /100)\n",
    "        print('Tipo de carne comprada: {}'.format(tipoCarne))\n",
    "        print('Quantidade comprada: {}'.format(qtdCarne))\n",
    "        print('Preço total: {:.2f}'.format(precoTotal))\n",
    "    \n",
    "else:\n",
    "    file_Duplo = 5.80\n",
    "    alcatra = 6.80\n",
    "    picanha = 7.80\n",
    "    \n",
    "    if tipoCarne == 'F' and tipoPagamento == 'C':\n",
    "        tipoCarne = 'File Duplo'\n",
    "        precoTotal = float(qtdCarne * file_Duplo) \n",
    "        descCarne = float(precoTotal * 5 / 100)\n",
    "        pagamentoTotal = precoTotal - (precoTotal * 5 /100)\n",
    "        print('Tipo de carne comprada: {}'.format(tipoCarne))\n",
    "        print('Quantidade comprada: {}'.format(qtdCarne))\n",
    "        print('Preço total: {:.2f}'.format(precoTotal))\n",
    "        print('Valor do desconto: {:.2f}'.format(descCarne))\n",
    "        print('Total a pagar: {:.2f}'.format(pagamentoTotal))\n",
    "    elif tipoCarne == 'F' and tipoPagamento == 'D':\n",
    "        tipoCarne = 'File Duplo'\n",
    "        precoTotal = float(qtdCarne * file_Duplo) \n",
    "        descCarne = float(precoTotal * 5 / 100)\n",
    "        pagamentoTotal = precoTotal - (precoTotal * 5 /100)\n",
    "        print('Tipo de carne comprada: {}'.format(tipoCarne))\n",
    "        print('Quantidade comprada: {}'.format(qtdCarne))\n",
    "        print('Preço total: {:.2f}'.format(precoTotal))\n",
    "\n",
    "    if tipoCarne == 'A' and tipoPagamento == 'C':\n",
    "        tipoCarne = 'Alcatra'\n",
    "        precoTotal = float(qtdCarne * alcatra) \n",
    "        descCarne = float(precoTotal * 5 / 100)\n",
    "        pagamentoTotal = precoTotal - (precoTotal * 5 /100)\n",
    "        print('Tipo de carne comprada: {}'.format(tipoCarne))\n",
    "        print('Quantidade comprada: {}'.format(qtdCarne))\n",
    "        print('Preço total: {:.2f}'.format(precoTotal))\n",
    "        print('Valor do desconto: {:.2f}'.format(descCarne))\n",
    "        print('Total a pagar: {:.2f}'.format(pagamentoTotal))\n",
    "    elif tipoCarne == 'A' and tipoPagamento == 'D':\n",
    "        tipoCarne = 'Alcatra'\n",
    "        precoTotal = float(qtdCarne * alcatra) \n",
    "        descCarne = float(precoTotal * 5 / 100)\n",
    "        pagamentoTotal = precoTotal - (precoTotal * 5 /100)\n",
    "        print('Tipo de carne comprada: {}'.format(tipoCarne))\n",
    "        print('Quantidade comprada: {}'.format(qtdCarne))\n",
    "        print('Preço total: {:.2f}'.format(precoTotal))\n",
    "        \n",
    "    if tipoCarne == 'P' and tipoPagamento == 'C':\n",
    "        tipoCarne = 'Picanha'\n",
    "        precoTotal = float(qtdCarne * picanha) \n",
    "        descCarne = float(precoTotal * 5 / 100)\n",
    "        pagamentoTotal = precoTotal - (precoTotal * 5 /100)\n",
    "        print('Tipo de carne comprada: {}'.format(tipoCarne))\n",
    "        print('Quantidade comprada: {}'.format(qtdCarne))\n",
    "        print('Preço total: {:.2f}'.format(precoTotal))\n",
    "        print('Valor do desconto: {:.2f}'.format(descCarne))\n",
    "        print('Total a pagar: {:.2f}'.format(pagamentoTotal))\n",
    "    elif tipoCarne == 'P' and tipoPagamento == 'D':\n",
    "        tipoCarne = 'Picanha'\n",
    "        precoTotal = float(qtdCarne * picanha) \n",
    "        descCarne = float(precoTotal * 5 / 100)\n",
    "        pagamentoTotal = precoTotal - (precoTotal * 5 /100)\n",
    "        print('Tipo de carne comprada: {}'.format(tipoCarne))\n",
    "        print('Quantidade comprada: {}'.format(qtdCarne))\n",
    "        print('Preço total: {:.2f}'.format(precoTotal))"
   ]
  },
  {
   "cell_type": "code",
   "execution_count": null,
   "metadata": {},
   "outputs": [],
   "source": []
  }
 ],
 "metadata": {
  "kernelspec": {
   "display_name": "Python 3",
   "language": "python",
   "name": "python3"
  },
  "language_info": {
   "codemirror_mode": {
    "name": "ipython",
    "version": 3
   },
   "file_extension": ".py",
   "mimetype": "text/x-python",
   "name": "python",
   "nbconvert_exporter": "python",
   "pygments_lexer": "ipython3",
   "version": "3.7.1"
  }
 },
 "nbformat": 4,
 "nbformat_minor": 2
}
